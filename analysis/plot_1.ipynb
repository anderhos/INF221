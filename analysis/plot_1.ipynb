{
 "cells": [
  {
   "cell_type": "code",
   "execution_count": null,
   "metadata": {},
   "outputs": [],
   "source": [
    "# Code based on termpaper 2019 by Ashesh and Anders Høst"
   ]
  },
  {
   "cell_type": "code",
   "execution_count": 2,
   "metadata": {},
   "outputs": [],
   "source": [
    "import pandas as pd\n",
    "import seaborn as sns\n",
    "import matplotlib.pyplot as plt"
   ]
  },
  {
   "cell_type": "code",
   "execution_count": 23,
   "metadata": {},
   "outputs": [],
   "source": [
    "# load data\n",
    "df_insertion = pd.read_pickle(r\"..\\data\\benchmark_results_insertion.pkl\")\n",
    "df_bubble = pd.read_pickle(r\"..\\data\\bubble_sort_n8.pkl\")\n",
    "df_merge = pd.read_pickle(r\"..\\data\\benchmark_results_mergesort.pkl\")\n",
    "df_quick = pd.read_pickle(r\"..\\data\\quick_sort_n2.pkl\")\n",
    "df_combined = pd.read_pickle(r\"..\\data\\benchmark_results_combined_n100.pkl\")\n",
    "\n"
   ]
  },
  {
   "cell_type": "code",
   "execution_count": 25,
   "metadata": {},
   "outputs": [
    {
     "data": {
      "text/html": [
       "<div>\n",
       "<style scoped>\n",
       "    .dataframe tbody tr th:only-of-type {\n",
       "        vertical-align: middle;\n",
       "    }\n",
       "\n",
       "    .dataframe tbody tr th {\n",
       "        vertical-align: top;\n",
       "    }\n",
       "\n",
       "    .dataframe thead th {\n",
       "        text-align: right;\n",
       "    }\n",
       "</style>\n",
       "<table border=\"1\" class=\"dataframe\">\n",
       "  <thead>\n",
       "    <tr style=\"text-align: right;\">\n",
       "      <th></th>\n",
       "      <th>input order</th>\n",
       "      <th>input size</th>\n",
       "      <th>run number</th>\n",
       "      <th>sorting algorithm</th>\n",
       "      <th>time</th>\n",
       "    </tr>\n",
       "  </thead>\n",
       "  <tbody>\n",
       "    <tr>\n",
       "      <th>0</th>\n",
       "      <td>sorted</td>\n",
       "      <td>1</td>\n",
       "      <td>1</td>\n",
       "      <td>quick_sort</td>\n",
       "      <td>4.576398e-07</td>\n",
       "    </tr>\n",
       "    <tr>\n",
       "      <th>1</th>\n",
       "      <td>sorted</td>\n",
       "      <td>1</td>\n",
       "      <td>2</td>\n",
       "      <td>quick_sort</td>\n",
       "      <td>4.151682e-07</td>\n",
       "    </tr>\n",
       "    <tr>\n",
       "      <th>2</th>\n",
       "      <td>sorted</td>\n",
       "      <td>1</td>\n",
       "      <td>3</td>\n",
       "      <td>quick_sort</td>\n",
       "      <td>4.179296e-07</td>\n",
       "    </tr>\n",
       "    <tr>\n",
       "      <th>3</th>\n",
       "      <td>sorted</td>\n",
       "      <td>1</td>\n",
       "      <td>4</td>\n",
       "      <td>quick_sort</td>\n",
       "      <td>4.429298e-07</td>\n",
       "    </tr>\n",
       "    <tr>\n",
       "      <th>4</th>\n",
       "      <td>sorted</td>\n",
       "      <td>1</td>\n",
       "      <td>5</td>\n",
       "      <td>quick_sort</td>\n",
       "      <td>4.191188e-07</td>\n",
       "    </tr>\n",
       "    <tr>\n",
       "      <th>5</th>\n",
       "      <td>sorted</td>\n",
       "      <td>2</td>\n",
       "      <td>1</td>\n",
       "      <td>quick_sort</td>\n",
       "      <td>1.358926e-06</td>\n",
       "    </tr>\n",
       "    <tr>\n",
       "      <th>6</th>\n",
       "      <td>sorted</td>\n",
       "      <td>2</td>\n",
       "      <td>2</td>\n",
       "      <td>quick_sort</td>\n",
       "      <td>1.248169e-06</td>\n",
       "    </tr>\n",
       "    <tr>\n",
       "      <th>7</th>\n",
       "      <td>sorted</td>\n",
       "      <td>2</td>\n",
       "      <td>3</td>\n",
       "      <td>quick_sort</td>\n",
       "      <td>2.012506e-06</td>\n",
       "    </tr>\n",
       "    <tr>\n",
       "      <th>8</th>\n",
       "      <td>sorted</td>\n",
       "      <td>2</td>\n",
       "      <td>4</td>\n",
       "      <td>quick_sort</td>\n",
       "      <td>1.702215e-06</td>\n",
       "    </tr>\n",
       "    <tr>\n",
       "      <th>9</th>\n",
       "      <td>sorted</td>\n",
       "      <td>2</td>\n",
       "      <td>5</td>\n",
       "      <td>quick_sort</td>\n",
       "      <td>1.309431e-06</td>\n",
       "    </tr>\n",
       "    <tr>\n",
       "      <th>10</th>\n",
       "      <td>reversed</td>\n",
       "      <td>1</td>\n",
       "      <td>1</td>\n",
       "      <td>quick_sort</td>\n",
       "      <td>4.409666e-07</td>\n",
       "    </tr>\n",
       "    <tr>\n",
       "      <th>11</th>\n",
       "      <td>reversed</td>\n",
       "      <td>1</td>\n",
       "      <td>2</td>\n",
       "      <td>quick_sort</td>\n",
       "      <td>4.195764e-07</td>\n",
       "    </tr>\n",
       "    <tr>\n",
       "      <th>12</th>\n",
       "      <td>reversed</td>\n",
       "      <td>1</td>\n",
       "      <td>3</td>\n",
       "      <td>quick_sort</td>\n",
       "      <td>4.229390e-07</td>\n",
       "    </tr>\n",
       "    <tr>\n",
       "      <th>13</th>\n",
       "      <td>reversed</td>\n",
       "      <td>1</td>\n",
       "      <td>4</td>\n",
       "      <td>quick_sort</td>\n",
       "      <td>4.135098e-07</td>\n",
       "    </tr>\n",
       "    <tr>\n",
       "      <th>14</th>\n",
       "      <td>reversed</td>\n",
       "      <td>1</td>\n",
       "      <td>5</td>\n",
       "      <td>quick_sort</td>\n",
       "      <td>4.158272e-07</td>\n",
       "    </tr>\n",
       "    <tr>\n",
       "      <th>15</th>\n",
       "      <td>reversed</td>\n",
       "      <td>2</td>\n",
       "      <td>1</td>\n",
       "      <td>quick_sort</td>\n",
       "      <td>1.542645e-06</td>\n",
       "    </tr>\n",
       "    <tr>\n",
       "      <th>16</th>\n",
       "      <td>reversed</td>\n",
       "      <td>2</td>\n",
       "      <td>2</td>\n",
       "      <td>quick_sort</td>\n",
       "      <td>2.165319e-06</td>\n",
       "    </tr>\n",
       "    <tr>\n",
       "      <th>17</th>\n",
       "      <td>reversed</td>\n",
       "      <td>2</td>\n",
       "      <td>3</td>\n",
       "      <td>quick_sort</td>\n",
       "      <td>2.190268e-06</td>\n",
       "    </tr>\n",
       "    <tr>\n",
       "      <th>18</th>\n",
       "      <td>reversed</td>\n",
       "      <td>2</td>\n",
       "      <td>4</td>\n",
       "      <td>quick_sort</td>\n",
       "      <td>2.163102e-06</td>\n",
       "    </tr>\n",
       "    <tr>\n",
       "      <th>19</th>\n",
       "      <td>reversed</td>\n",
       "      <td>2</td>\n",
       "      <td>5</td>\n",
       "      <td>quick_sort</td>\n",
       "      <td>2.183495e-06</td>\n",
       "    </tr>\n",
       "    <tr>\n",
       "      <th>20</th>\n",
       "      <td>random</td>\n",
       "      <td>1</td>\n",
       "      <td>1</td>\n",
       "      <td>quick_sort</td>\n",
       "      <td>9.109956e-07</td>\n",
       "    </tr>\n",
       "    <tr>\n",
       "      <th>21</th>\n",
       "      <td>random</td>\n",
       "      <td>1</td>\n",
       "      <td>2</td>\n",
       "      <td>quick_sort</td>\n",
       "      <td>8.661994e-07</td>\n",
       "    </tr>\n",
       "    <tr>\n",
       "      <th>22</th>\n",
       "      <td>random</td>\n",
       "      <td>1</td>\n",
       "      <td>3</td>\n",
       "      <td>quick_sort</td>\n",
       "      <td>9.840704e-07</td>\n",
       "    </tr>\n",
       "    <tr>\n",
       "      <th>23</th>\n",
       "      <td>random</td>\n",
       "      <td>1</td>\n",
       "      <td>4</td>\n",
       "      <td>quick_sort</td>\n",
       "      <td>9.726538e-07</td>\n",
       "    </tr>\n",
       "    <tr>\n",
       "      <th>24</th>\n",
       "      <td>random</td>\n",
       "      <td>1</td>\n",
       "      <td>5</td>\n",
       "      <td>quick_sort</td>\n",
       "      <td>8.131840e-07</td>\n",
       "    </tr>\n",
       "    <tr>\n",
       "      <th>25</th>\n",
       "      <td>random</td>\n",
       "      <td>2</td>\n",
       "      <td>1</td>\n",
       "      <td>quick_sort</td>\n",
       "      <td>3.754824e-06</td>\n",
       "    </tr>\n",
       "    <tr>\n",
       "      <th>26</th>\n",
       "      <td>random</td>\n",
       "      <td>2</td>\n",
       "      <td>2</td>\n",
       "      <td>quick_sort</td>\n",
       "      <td>2.990475e-06</td>\n",
       "    </tr>\n",
       "    <tr>\n",
       "      <th>27</th>\n",
       "      <td>random</td>\n",
       "      <td>2</td>\n",
       "      <td>3</td>\n",
       "      <td>quick_sort</td>\n",
       "      <td>3.126361e-06</td>\n",
       "    </tr>\n",
       "    <tr>\n",
       "      <th>28</th>\n",
       "      <td>random</td>\n",
       "      <td>2</td>\n",
       "      <td>4</td>\n",
       "      <td>quick_sort</td>\n",
       "      <td>3.152650e-06</td>\n",
       "    </tr>\n",
       "    <tr>\n",
       "      <th>29</th>\n",
       "      <td>random</td>\n",
       "      <td>2</td>\n",
       "      <td>5</td>\n",
       "      <td>quick_sort</td>\n",
       "      <td>2.870766e-06</td>\n",
       "    </tr>\n",
       "  </tbody>\n",
       "</table>\n",
       "</div>"
      ],
      "text/plain": [
       "   input order input size run number sorting algorithm          time\n",
       "0       sorted          1          1        quick_sort  4.576398e-07\n",
       "1       sorted          1          2        quick_sort  4.151682e-07\n",
       "2       sorted          1          3        quick_sort  4.179296e-07\n",
       "3       sorted          1          4        quick_sort  4.429298e-07\n",
       "4       sorted          1          5        quick_sort  4.191188e-07\n",
       "5       sorted          2          1        quick_sort  1.358926e-06\n",
       "6       sorted          2          2        quick_sort  1.248169e-06\n",
       "7       sorted          2          3        quick_sort  2.012506e-06\n",
       "8       sorted          2          4        quick_sort  1.702215e-06\n",
       "9       sorted          2          5        quick_sort  1.309431e-06\n",
       "10    reversed          1          1        quick_sort  4.409666e-07\n",
       "11    reversed          1          2        quick_sort  4.195764e-07\n",
       "12    reversed          1          3        quick_sort  4.229390e-07\n",
       "13    reversed          1          4        quick_sort  4.135098e-07\n",
       "14    reversed          1          5        quick_sort  4.158272e-07\n",
       "15    reversed          2          1        quick_sort  1.542645e-06\n",
       "16    reversed          2          2        quick_sort  2.165319e-06\n",
       "17    reversed          2          3        quick_sort  2.190268e-06\n",
       "18    reversed          2          4        quick_sort  2.163102e-06\n",
       "19    reversed          2          5        quick_sort  2.183495e-06\n",
       "20      random          1          1        quick_sort  9.109956e-07\n",
       "21      random          1          2        quick_sort  8.661994e-07\n",
       "22      random          1          3        quick_sort  9.840704e-07\n",
       "23      random          1          4        quick_sort  9.726538e-07\n",
       "24      random          1          5        quick_sort  8.131840e-07\n",
       "25      random          2          1        quick_sort  3.754824e-06\n",
       "26      random          2          2        quick_sort  2.990475e-06\n",
       "27      random          2          3        quick_sort  3.126361e-06\n",
       "28      random          2          4        quick_sort  3.152650e-06\n",
       "29      random          2          5        quick_sort  2.870766e-06"
      ]
     },
     "execution_count": 25,
     "metadata": {},
     "output_type": "execute_result"
    }
   ],
   "source": [
    "df_quick"
   ]
  },
  {
   "cell_type": "code",
   "execution_count": 8,
   "metadata": {},
   "outputs": [],
   "source": [
    "sns.set(rc={\"figure.figsize\":(84/25.4,84/25.4)})\n",
    "sns.set_style(\"whitegrid\")"
   ]
  },
  {
   "cell_type": "code",
   "execution_count": 9,
   "metadata": {},
   "outputs": [],
   "source": [
    "sns.set(style=\"whitegrid\", rc={\"grid.linewidth\": 0.1})\n",
    "sns.set_context(\"paper\", font_scale=0.9) \n",
    "color = sns.color_palette(\"Set2\", 6)"
   ]
  },
  {
   "cell_type": "code",
   "execution_count": 16,
   "metadata": {},
   "outputs": [
    {
     "data": {
      "image/png": "[encoded data removed]",
      "text/plain": [
       "<Figure size 238.11x238.11 with 1 Axes>"
      ]
     },
     "metadata": {},
     "output_type": "display_data"
    }
   ],
   "source": [
    "fig_merge = sns.lineplot(x=\"input size\", y=\"time\", data=df_merge, \n",
    "                         hue=\"input ordering\")\n",
    "plt.xscale(\"log\")\n",
    "plt.yscale(\"log\")\n",
    "plt.title('Mergesort')\n",
    "fig_merge = fig_merge.get_figure()\n",
    "#fig_merge.savefig(\"Mergesort.pdf\")"
   ]
  },
  {
   "cell_type": "code",
   "execution_count": 17,
   "metadata": {},
   "outputs": [],
   "source": [
    "# Concatenate\n",
    "\n",
    "frames = [df_merge, df_combined, df_insertion]\n",
    "df_all = pd.concat(frames, axis=0)"
   ]
  },
  {
   "cell_type": "code",
   "execution_count": 63,
   "metadata": {},
   "outputs": [
    {
     "data": {
      "image/png": "[encoded data removed]",
      "text/plain": [
       "<Figure size 238.11x238.11 with 1 Axes>"
      ]
     },
     "metadata": {},
     "output_type": "display_data"
    }
   ],
   "source": [
    "# Plot sorted\n",
    "\n",
    "df_all_sorted = df_all[df_all[\"input ordering\"] == \"sorted\"]\n",
    "fig_sorted = sns.lineplot(x=\"input size\", y='time', hue=\"sorting algorithm\",\n",
    "                         data=df_all_sorted)\n",
    "plt.title(\"Sorted Data\")\n",
    "plt.xscale(\"log\")\n",
    "plt.yscale(\"log\")\n",
    "fig_sorted = fig_sorted.get_figure()\n",
    "fig_sorted.savefig(\"sorted_plot1000.pdf\")"
   ]
  },
  {
   "cell_type": "code",
   "execution_count": 64,
   "metadata": {},
   "outputs": [
    {
     "data": {
      "image/png": "[encoded data removed]",
      "text/plain": [
       "<Figure size 238.11x238.11 with 1 Axes>"
      ]
     },
     "metadata": {},
     "output_type": "display_data"
    }
   ],
   "source": [
    "# Plot reversed\n",
    "\n",
    "df_all_reversed = df_all[df_all[\"input ordering\"] == \"reversed\"]\n",
    "fig_reversed = sns.lineplot(x=\"input size\", y='time', \n",
    "                            hue=\"sorting algorithm\",\n",
    "                            data=df_all_reversed)\n",
    "plt.title(\"Reverse-sorted Data\")\n",
    "plt.xscale(\"log\")\n",
    "plt.yscale(\"log\")\n",
    "fig_reversed = fig_reversed.get_figure()\n",
    "fig_reversed.savefig(\"reversed_plot1000.pdf\")"
   ]
  },
  {
   "cell_type": "code",
   "execution_count": 68,
   "metadata": {},
   "outputs": [
    {
     "ename": "PermissionError",
     "evalue": "[Errno 13] Permission denied: 'random_plot1000.pdf'",
     "output_type": "error",
     "traceback": [
      "\u001b[1;31m---------------------------------------------------------------------------\u001b[0m",
      "\u001b[1;31mPermissionError\u001b[0m                           Traceback (most recent call last)",
      "\u001b[1;32m<ipython-input-68-cd1885efec19>\u001b[0m in \u001b[0;36m<module>\u001b[1;34m\u001b[0m\n\u001b[0;32m      9\u001b[0m \u001b[0mplt\u001b[0m\u001b[1;33m.\u001b[0m\u001b[0myscale\u001b[0m\u001b[1;33m(\u001b[0m\u001b[1;34m\"log\"\u001b[0m\u001b[1;33m)\u001b[0m\u001b[1;33m\u001b[0m\u001b[1;33m\u001b[0m\u001b[0m\n\u001b[0;32m     10\u001b[0m \u001b[0mfig_random\u001b[0m \u001b[1;33m=\u001b[0m \u001b[0mfig_random\u001b[0m\u001b[1;33m.\u001b[0m\u001b[0mget_figure\u001b[0m\u001b[1;33m(\u001b[0m\u001b[1;33m)\u001b[0m\u001b[1;33m\u001b[0m\u001b[1;33m\u001b[0m\u001b[0m\n\u001b[1;32m---> 11\u001b[1;33m \u001b[0mfig_random\u001b[0m\u001b[1;33m.\u001b[0m\u001b[0msavefig\u001b[0m\u001b[1;33m(\u001b[0m\u001b[1;34m\"random_plot1000.pdf\"\u001b[0m\u001b[1;33m)\u001b[0m\u001b[1;33m\u001b[0m\u001b[1;33m\u001b[0m\u001b[0m\n\u001b[0m",
      "\u001b[1;32m~\\miniconda3\\envs\\inf221_2020\\lib\\site-packages\\matplotlib\\figure.py\u001b[0m in \u001b[0;36msavefig\u001b[1;34m(self, fname, transparent, **kwargs)\u001b[0m\n\u001b[0;32m   2309\u001b[0m                 \u001b[0mpatch\u001b[0m\u001b[1;33m.\u001b[0m\u001b[0mset_edgecolor\u001b[0m\u001b[1;33m(\u001b[0m\u001b[1;34m'none'\u001b[0m\u001b[1;33m)\u001b[0m\u001b[1;33m\u001b[0m\u001b[1;33m\u001b[0m\u001b[0m\n\u001b[0;32m   2310\u001b[0m \u001b[1;33m\u001b[0m\u001b[0m\n\u001b[1;32m-> 2311\u001b[1;33m         \u001b[0mself\u001b[0m\u001b[1;33m.\u001b[0m\u001b[0mcanvas\u001b[0m\u001b[1;33m.\u001b[0m\u001b[0mprint_figure\u001b[0m\u001b[1;33m(\u001b[0m\u001b[0mfname\u001b[0m\u001b[1;33m,\u001b[0m \u001b[1;33m**\u001b[0m\u001b[0mkwargs\u001b[0m\u001b[1;33m)\u001b[0m\u001b[1;33m\u001b[0m\u001b[1;33m\u001b[0m\u001b[0m\n\u001b[0m\u001b[0;32m   2312\u001b[0m \u001b[1;33m\u001b[0m\u001b[0m\n\u001b[0;32m   2313\u001b[0m         \u001b[1;32mif\u001b[0m \u001b[0mtransparent\u001b[0m\u001b[1;33m:\u001b[0m\u001b[1;33m\u001b[0m\u001b[1;33m\u001b[0m\u001b[0m\n",
      "\u001b[1;32m~\\miniconda3\\envs\\inf221_2020\\lib\\site-packages\\matplotlib\\backend_bases.py\u001b[0m in \u001b[0;36mprint_figure\u001b[1;34m(self, filename, dpi, facecolor, edgecolor, orientation, format, bbox_inches, pad_inches, bbox_extra_artists, backend, **kwargs)\u001b[0m\n\u001b[0;32m   2215\u001b[0m                     \u001b[0morientation\u001b[0m\u001b[1;33m=\u001b[0m\u001b[0morientation\u001b[0m\u001b[1;33m,\u001b[0m\u001b[1;33m\u001b[0m\u001b[1;33m\u001b[0m\u001b[0m\n\u001b[0;32m   2216\u001b[0m                     \u001b[0mbbox_inches_restore\u001b[0m\u001b[1;33m=\u001b[0m\u001b[0m_bbox_inches_restore\u001b[0m\u001b[1;33m,\u001b[0m\u001b[1;33m\u001b[0m\u001b[1;33m\u001b[0m\u001b[0m\n\u001b[1;32m-> 2217\u001b[1;33m                     **kwargs)\n\u001b[0m\u001b[0;32m   2218\u001b[0m             \u001b[1;32mfinally\u001b[0m\u001b[1;33m:\u001b[0m\u001b[1;33m\u001b[0m\u001b[1;33m\u001b[0m\u001b[0m\n\u001b[0;32m   2219\u001b[0m                 \u001b[1;32mif\u001b[0m \u001b[0mbbox_inches\u001b[0m \u001b[1;32mand\u001b[0m \u001b[0mrestore_bbox\u001b[0m\u001b[1;33m:\u001b[0m\u001b[1;33m\u001b[0m\u001b[1;33m\u001b[0m\u001b[0m\n",
      "\u001b[1;32m~\\miniconda3\\envs\\inf221_2020\\lib\\site-packages\\matplotlib\\backend_bases.py\u001b[0m in \u001b[0;36mwrapper\u001b[1;34m(*args, **kwargs)\u001b[0m\n\u001b[0;32m   1637\u001b[0m             \u001b[0mkwargs\u001b[0m\u001b[1;33m.\u001b[0m\u001b[0mpop\u001b[0m\u001b[1;33m(\u001b[0m\u001b[0marg\u001b[0m\u001b[1;33m)\u001b[0m\u001b[1;33m\u001b[0m\u001b[1;33m\u001b[0m\u001b[0m\n\u001b[0;32m   1638\u001b[0m \u001b[1;33m\u001b[0m\u001b[0m\n\u001b[1;32m-> 1639\u001b[1;33m         \u001b[1;32mreturn\u001b[0m \u001b[0mfunc\u001b[0m\u001b[1;33m(\u001b[0m\u001b[1;33m*\u001b[0m\u001b[0margs\u001b[0m\u001b[1;33m,\u001b[0m \u001b[1;33m**\u001b[0m\u001b[0mkwargs\u001b[0m\u001b[1;33m)\u001b[0m\u001b[1;33m\u001b[0m\u001b[1;33m\u001b[0m\u001b[0m\n\u001b[0m\u001b[0;32m   1640\u001b[0m \u001b[1;33m\u001b[0m\u001b[0m\n\u001b[0;32m   1641\u001b[0m     \u001b[1;32mreturn\u001b[0m \u001b[0mwrapper\u001b[0m\u001b[1;33m\u001b[0m\u001b[1;33m\u001b[0m\u001b[0m\n",
      "\u001b[1;32m~\\miniconda3\\envs\\inf221_2020\\lib\\site-packages\\matplotlib\\backends\\backend_pdf.py\u001b[0m in \u001b[0;36mprint_pdf\u001b[1;34m(self, filename, dpi, bbox_inches_restore, metadata)\u001b[0m\n\u001b[0;32m   2584\u001b[0m             \u001b[0mfile\u001b[0m \u001b[1;33m=\u001b[0m \u001b[0mfilename\u001b[0m\u001b[1;33m.\u001b[0m\u001b[0m_file\u001b[0m\u001b[1;33m\u001b[0m\u001b[1;33m\u001b[0m\u001b[0m\n\u001b[0;32m   2585\u001b[0m         \u001b[1;32melse\u001b[0m\u001b[1;33m:\u001b[0m\u001b[1;33m\u001b[0m\u001b[1;33m\u001b[0m\u001b[0m\n\u001b[1;32m-> 2586\u001b[1;33m             \u001b[0mfile\u001b[0m \u001b[1;33m=\u001b[0m \u001b[0mPdfFile\u001b[0m\u001b[1;33m(\u001b[0m\u001b[0mfilename\u001b[0m\u001b[1;33m,\u001b[0m \u001b[0mmetadata\u001b[0m\u001b[1;33m=\u001b[0m\u001b[0mmetadata\u001b[0m\u001b[1;33m)\u001b[0m\u001b[1;33m\u001b[0m\u001b[1;33m\u001b[0m\u001b[0m\n\u001b[0m\u001b[0;32m   2587\u001b[0m         \u001b[1;32mtry\u001b[0m\u001b[1;33m:\u001b[0m\u001b[1;33m\u001b[0m\u001b[1;33m\u001b[0m\u001b[0m\n\u001b[0;32m   2588\u001b[0m             \u001b[0mfile\u001b[0m\u001b[1;33m.\u001b[0m\u001b[0mnewPage\u001b[0m\u001b[1;33m(\u001b[0m\u001b[0mwidth\u001b[0m\u001b[1;33m,\u001b[0m \u001b[0mheight\u001b[0m\u001b[1;33m)\u001b[0m\u001b[1;33m\u001b[0m\u001b[1;33m\u001b[0m\u001b[0m\n",
      "\u001b[1;32m~\\miniconda3\\envs\\inf221_2020\\lib\\site-packages\\matplotlib\\backends\\backend_pdf.py\u001b[0m in \u001b[0;36m__init__\u001b[1;34m(self, filename, metadata)\u001b[0m\n\u001b[0;32m    560\u001b[0m         \u001b[0mself\u001b[0m\u001b[1;33m.\u001b[0m\u001b[0moriginal_file_like\u001b[0m \u001b[1;33m=\u001b[0m \u001b[1;32mNone\u001b[0m\u001b[1;33m\u001b[0m\u001b[1;33m\u001b[0m\u001b[0m\n\u001b[0;32m    561\u001b[0m         \u001b[0mself\u001b[0m\u001b[1;33m.\u001b[0m\u001b[0mtell_base\u001b[0m \u001b[1;33m=\u001b[0m \u001b[1;36m0\u001b[0m\u001b[1;33m\u001b[0m\u001b[1;33m\u001b[0m\u001b[0m\n\u001b[1;32m--> 562\u001b[1;33m         \u001b[0mfh\u001b[0m\u001b[1;33m,\u001b[0m \u001b[0mopened\u001b[0m \u001b[1;33m=\u001b[0m \u001b[0mcbook\u001b[0m\u001b[1;33m.\u001b[0m\u001b[0mto_filehandle\u001b[0m\u001b[1;33m(\u001b[0m\u001b[0mfilename\u001b[0m\u001b[1;33m,\u001b[0m \u001b[1;34m\"wb\"\u001b[0m\u001b[1;33m,\u001b[0m \u001b[0mreturn_opened\u001b[0m\u001b[1;33m=\u001b[0m\u001b[1;32mTrue\u001b[0m\u001b[1;33m)\u001b[0m\u001b[1;33m\u001b[0m\u001b[1;33m\u001b[0m\u001b[0m\n\u001b[0m\u001b[0;32m    563\u001b[0m         \u001b[1;32mif\u001b[0m \u001b[1;32mnot\u001b[0m \u001b[0mopened\u001b[0m\u001b[1;33m:\u001b[0m\u001b[1;33m\u001b[0m\u001b[1;33m\u001b[0m\u001b[0m\n\u001b[0;32m    564\u001b[0m             \u001b[1;32mtry\u001b[0m\u001b[1;33m:\u001b[0m\u001b[1;33m\u001b[0m\u001b[1;33m\u001b[0m\u001b[0m\n",
      "\u001b[1;32m~\\miniconda3\\envs\\inf221_2020\\lib\\site-packages\\matplotlib\\cbook\\__init__.py\u001b[0m in \u001b[0;36mto_filehandle\u001b[1;34m(fname, flag, return_opened, encoding)\u001b[0m\n\u001b[0;32m    406\u001b[0m             \u001b[0mfh\u001b[0m \u001b[1;33m=\u001b[0m \u001b[0mbz2\u001b[0m\u001b[1;33m.\u001b[0m\u001b[0mBZ2File\u001b[0m\u001b[1;33m(\u001b[0m\u001b[0mfname\u001b[0m\u001b[1;33m,\u001b[0m \u001b[0mflag\u001b[0m\u001b[1;33m)\u001b[0m\u001b[1;33m\u001b[0m\u001b[1;33m\u001b[0m\u001b[0m\n\u001b[0;32m    407\u001b[0m         \u001b[1;32melse\u001b[0m\u001b[1;33m:\u001b[0m\u001b[1;33m\u001b[0m\u001b[1;33m\u001b[0m\u001b[0m\n\u001b[1;32m--> 408\u001b[1;33m             \u001b[0mfh\u001b[0m \u001b[1;33m=\u001b[0m \u001b[0mopen\u001b[0m\u001b[1;33m(\u001b[0m\u001b[0mfname\u001b[0m\u001b[1;33m,\u001b[0m \u001b[0mflag\u001b[0m\u001b[1;33m,\u001b[0m \u001b[0mencoding\u001b[0m\u001b[1;33m=\u001b[0m\u001b[0mencoding\u001b[0m\u001b[1;33m)\u001b[0m\u001b[1;33m\u001b[0m\u001b[1;33m\u001b[0m\u001b[0m\n\u001b[0m\u001b[0;32m    409\u001b[0m         \u001b[0mopened\u001b[0m \u001b[1;33m=\u001b[0m \u001b[1;32mTrue\u001b[0m\u001b[1;33m\u001b[0m\u001b[1;33m\u001b[0m\u001b[0m\n\u001b[0;32m    410\u001b[0m     \u001b[1;32melif\u001b[0m \u001b[0mhasattr\u001b[0m\u001b[1;33m(\u001b[0m\u001b[0mfname\u001b[0m\u001b[1;33m,\u001b[0m \u001b[1;34m'seek'\u001b[0m\u001b[1;33m)\u001b[0m\u001b[1;33m:\u001b[0m\u001b[1;33m\u001b[0m\u001b[1;33m\u001b[0m\u001b[0m\n",
      "\u001b[1;31mPermissionError\u001b[0m: [Errno 13] Permission denied: 'random_plot1000.pdf'"
     ]
    },
    {
     "data": {
      "image/png": "[encoded data removed]",
      "text/plain": [
       "<Figure size 238.11x238.11 with 1 Axes>"
      ]
     },
     "metadata": {},
     "output_type": "display_data"
    }
   ],
   "source": [
    "# Plot random\n",
    "\n",
    "df_all_random = df_all[df_all[\"input ordering\"] == \"random\"]\n",
    "fig_random = sns.lineplot(x=\"input size\", y='time', \n",
    "                            hue=\"sorting algorithm\",\n",
    "                            data=df_all_random)\n",
    "plt.title(\"Random sorted Data\")\n",
    "plt.xscale(\"log\")\n",
    "plt.yscale(\"log\")\n",
    "fig_random = fig_random.get_figure()\n",
    "fig_random.savefig(\"random_plot1000.pdf\")"
   ]
  },
  {
   "cell_type": "code",
   "execution_count": null,
   "metadata": {},
   "outputs": [],
   "source": []
  }
 ],
 "metadata": {
  "hide_input": false,
  "kernelspec": {
   "display_name": "Python 3",
   "language": "python",
   "name": "python3"
  },
  "language_info": {
   "codemirror_mode": {
    "name": "ipython",
    "version": 3
   },
   "file_extension": ".py",
   "mimetype": "text/x-python",
   "name": "python",
   "nbconvert_exporter": "python",
   "pygments_lexer": "ipython3",
   "version": "3.7.9"
  },
  "toc": {
   "base_numbering": 1,
   "nav_menu": {},
   "number_sections": true,
   "sideBar": true,
   "skip_h1_title": false,
   "title_cell": "Table of Contents",
   "title_sidebar": "Contents",
   "toc_cell": false,
   "toc_position": {},
   "toc_section_display": true,
   "toc_window_display": false
  },
  "varInspector": {
   "cols": {
    "lenName": 16,
    "lenType": 16,
    "lenVar": 40
   },
   "kernels_config": {
    "python": {
     "delete_cmd_postfix": "",
     "delete_cmd_prefix": "del ",
     "library": "var_list.py",
     "varRefreshCmd": "print(var_dic_list())"
    },
    "r": {
     "delete_cmd_postfix": ") ",
     "delete_cmd_prefix": "rm(",
     "library": "var_list.r",
     "varRefreshCmd": "cat(var_dic_list()) "
    }
   },
   "types_to_exclude": [
    "module",
    "function",
    "builtin_function_or_method",
    "instance",
    "_Feature"
   ],
   "window_display": false
  }
 },
 "nbformat": 4,
 "nbformat_minor": 4
}
