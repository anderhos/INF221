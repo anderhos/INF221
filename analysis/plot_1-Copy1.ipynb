{
 "cells": [
  {
   "cell_type": "code",
   "execution_count": null,
   "metadata": {},
   "outputs": [],
   "source": [
    "# Code based on termpaper 2019 by Ashesh and Anders Høst"
   ]
  },
  {
   "cell_type": "code",
   "execution_count": 1,
   "metadata": {},
   "outputs": [],
   "source": [
    "import pandas as pd\n",
    "import seaborn as sns\n",
    "import matplotlib.pyplot as plt\n",
    "import os.path"
   ]
  },
  {
   "cell_type": "code",
   "execution_count": 38,
   "metadata": {},
   "outputs": [],
   "source": [
    "data_dir = \"../data/\"\n",
    "path_insertion = os.path.join(data_dir, \"insertion_sort_n1024.pkl\")\n",
    "df_insertion = pd.read_pickle(path_insertion)\n",
    "path_merge = os.path.join(data_dir, \"merge_sort_n1024.pkl\")\n",
    "df_merge = pd.read_pickle(path_merge)"
   ]
  },
  {
   "cell_type": "code",
   "execution_count": 67,
   "metadata": {},
   "outputs": [],
   "source": [
    "# Concat\n",
    "\n",
    "frames = [df_insertion, df_merge]\n",
    "df_all = pd.concat(frames, axis=0)"
   ]
  },
  {
   "cell_type": "code",
   "execution_count": 95,
   "metadata": {},
   "outputs": [
    {
     "data": {
      "image/png": "[encoded data removed]",
      "text/plain": [
       "<Figure size 432x288 with 1 Axes>"
      ]
     },
     "metadata": {
      "needs_background": "light"
     },
     "output_type": "display_data"
    }
   ],
   "source": [
    "# Plot sorted\n",
    "\n",
    "df_all_sorted = df_all[df_all[\"input order\"] == \"random\"]\n",
    "fig_sorted = sns.lineplot(x=\"input size\", y='time', hue=\"sorting algorithm\",\n",
    "                          data=df_all_sorted)\n",
    "plt.title(\"Random Data\")\n",
    "plt.xscale(\"log\", basex=2)\n",
    "plt.yscale(\"log\")\n",
    "fig_sorted = fig_sorted.get_figure()"
   ]
  },
  {
   "cell_type": "code",
   "execution_count": 64,
   "metadata": {},
   "outputs": [],
   "source": [
    "# Get minimum times in separate frame\n",
    "df_insertion_group = df_insertion.groupby(\n",
    "    [\"time\"])\n",
    "df_merge_group = df_merge.groupby(\n",
    "    [\"input order\", \"input size\", \"sorting algorithm\", \"time\"])"
   ]
  },
  {
   "cell_type": "code",
   "execution_count": 65,
   "metadata": {},
   "outputs": [
    {
     "data": {
      "text/plain": [
       "<pandas.core.groupby.generic.DataFrameGroupBy object at 0x000001D75563ACD0>"
      ]
     },
     "execution_count": 65,
     "metadata": {},
     "output_type": "execute_result"
    }
   ],
   "source": [
    "df_insertion_group"
   ]
  },
  {
   "cell_type": "code",
   "execution_count": 66,
   "metadata": {},
   "outputs": [
    {
     "data": {
      "text/html": [
       "<div>\n",
       "<style scoped>\n",
       "    .dataframe tbody tr th:only-of-type {\n",
       "        vertical-align: middle;\n",
       "    }\n",
       "\n",
       "    .dataframe tbody tr th {\n",
       "        vertical-align: top;\n",
       "    }\n",
       "\n",
       "    .dataframe thead th {\n",
       "        text-align: right;\n",
       "    }\n",
       "</style>\n",
       "<table border=\"1\" class=\"dataframe\">\n",
       "  <thead>\n",
       "    <tr style=\"text-align: right;\">\n",
       "      <th></th>\n",
       "      <th>input order</th>\n",
       "      <th>input size</th>\n",
       "      <th>run number</th>\n",
       "      <th>sorting algorithm</th>\n",
       "    </tr>\n",
       "    <tr>\n",
       "      <th>time</th>\n",
       "      <th></th>\n",
       "      <th></th>\n",
       "      <th></th>\n",
       "      <th></th>\n",
       "    </tr>\n",
       "  </thead>\n",
       "  <tbody>\n",
       "    <tr>\n",
       "      <th>6.637762e-07</th>\n",
       "      <td>sorted</td>\n",
       "      <td>1</td>\n",
       "      <td>4</td>\n",
       "      <td>insertion_sort</td>\n",
       "    </tr>\n",
       "    <tr>\n",
       "      <th>6.679566e-07</th>\n",
       "      <td>sorted</td>\n",
       "      <td>1</td>\n",
       "      <td>3</td>\n",
       "      <td>insertion_sort</td>\n",
       "    </tr>\n",
       "    <tr>\n",
       "      <th>6.759254e-07</th>\n",
       "      <td>sorted</td>\n",
       "      <td>1</td>\n",
       "      <td>5</td>\n",
       "      <td>insertion_sort</td>\n",
       "    </tr>\n",
       "    <tr>\n",
       "      <th>6.770510e-07</th>\n",
       "      <td>sorted</td>\n",
       "      <td>1</td>\n",
       "      <td>2</td>\n",
       "      <td>insertion_sort</td>\n",
       "    </tr>\n",
       "    <tr>\n",
       "      <th>6.779452e-07</th>\n",
       "      <td>reversed</td>\n",
       "      <td>1</td>\n",
       "      <td>1</td>\n",
       "      <td>insertion_sort</td>\n",
       "    </tr>\n",
       "    <tr>\n",
       "      <th>...</th>\n",
       "      <td>...</td>\n",
       "      <td>...</td>\n",
       "      <td>...</td>\n",
       "      <td>...</td>\n",
       "    </tr>\n",
       "    <tr>\n",
       "      <th>1.614093e-01</th>\n",
       "      <td>random</td>\n",
       "      <td>1024</td>\n",
       "      <td>4</td>\n",
       "      <td>insertion_sort</td>\n",
       "    </tr>\n",
       "    <tr>\n",
       "      <th>1.627620e-01</th>\n",
       "      <td>random</td>\n",
       "      <td>1024</td>\n",
       "      <td>3</td>\n",
       "      <td>insertion_sort</td>\n",
       "    </tr>\n",
       "    <tr>\n",
       "      <th>1.646570e-01</th>\n",
       "      <td>random</td>\n",
       "      <td>1024</td>\n",
       "      <td>2</td>\n",
       "      <td>insertion_sort</td>\n",
       "    </tr>\n",
       "    <tr>\n",
       "      <th>1.702850e-01</th>\n",
       "      <td>random</td>\n",
       "      <td>1024</td>\n",
       "      <td>1</td>\n",
       "      <td>insertion_sort</td>\n",
       "    </tr>\n",
       "    <tr>\n",
       "      <th>1.969179e-01</th>\n",
       "      <td>random</td>\n",
       "      <td>1024</td>\n",
       "      <td>5</td>\n",
       "      <td>insertion_sort</td>\n",
       "    </tr>\n",
       "  </tbody>\n",
       "</table>\n",
       "<p>165 rows × 4 columns</p>\n",
       "</div>"
      ],
      "text/plain": [
       "             input order  input size  run number sorting algorithm\n",
       "time                                                              \n",
       "6.637762e-07      sorted           1           4    insertion_sort\n",
       "6.679566e-07      sorted           1           3    insertion_sort\n",
       "6.759254e-07      sorted           1           5    insertion_sort\n",
       "6.770510e-07      sorted           1           2    insertion_sort\n",
       "6.779452e-07    reversed           1           1    insertion_sort\n",
       "...                  ...         ...         ...               ...\n",
       "1.614093e-01      random        1024           4    insertion_sort\n",
       "1.627620e-01      random        1024           3    insertion_sort\n",
       "1.646570e-01      random        1024           2    insertion_sort\n",
       "1.702850e-01      random        1024           1    insertion_sort\n",
       "1.969179e-01      random        1024           5    insertion_sort\n",
       "\n",
       "[165 rows x 4 columns]"
      ]
     },
     "execution_count": 66,
     "metadata": {},
     "output_type": "execute_result"
    }
   ],
   "source": [
    "df_insertion_group.min()"
   ]
  },
  {
   "cell_type": "code",
   "execution_count": 27,
   "metadata": {},
   "outputs": [],
   "source": [
    "# Concatenate\n",
    "\n",
    "frames = [df_insertion_group, df_merge_group]\n",
    "df_all = pd.concat(frames, axis=0)"
   ]
  },
  {
   "cell_type": "code",
   "execution_count": 28,
   "metadata": {},
   "outputs": [
    {
     "data": {
      "text/html": [
       "<div>\n",
       "<style scoped>\n",
       "    .dataframe tbody tr th:only-of-type {\n",
       "        vertical-align: middle;\n",
       "    }\n",
       "\n",
       "    .dataframe tbody tr th {\n",
       "        vertical-align: top;\n",
       "    }\n",
       "\n",
       "    .dataframe thead th {\n",
       "        text-align: right;\n",
       "    }\n",
       "</style>\n",
       "<table border=\"1\" class=\"dataframe\">\n",
       "  <thead>\n",
       "    <tr style=\"text-align: right;\">\n",
       "      <th></th>\n",
       "      <th></th>\n",
       "      <th></th>\n",
       "      <th>run number</th>\n",
       "      <th>time</th>\n",
       "    </tr>\n",
       "    <tr>\n",
       "      <th>input order</th>\n",
       "      <th>input size</th>\n",
       "      <th>sorting algorithm</th>\n",
       "      <th></th>\n",
       "      <th></th>\n",
       "    </tr>\n",
       "  </thead>\n",
       "  <tbody>\n",
       "    <tr>\n",
       "      <th rowspan=\"5\" valign=\"top\">random</th>\n",
       "      <th>1</th>\n",
       "      <th>insertion_sort</th>\n",
       "      <td>1</td>\n",
       "      <td>0.000001</td>\n",
       "    </tr>\n",
       "    <tr>\n",
       "      <th>2</th>\n",
       "      <th>insertion_sort</th>\n",
       "      <td>1</td>\n",
       "      <td>0.000002</td>\n",
       "    </tr>\n",
       "    <tr>\n",
       "      <th>4</th>\n",
       "      <th>insertion_sort</th>\n",
       "      <td>1</td>\n",
       "      <td>0.000007</td>\n",
       "    </tr>\n",
       "    <tr>\n",
       "      <th>8</th>\n",
       "      <th>insertion_sort</th>\n",
       "      <td>1</td>\n",
       "      <td>0.000015</td>\n",
       "    </tr>\n",
       "    <tr>\n",
       "      <th>16</th>\n",
       "      <th>insertion_sort</th>\n",
       "      <td>1</td>\n",
       "      <td>0.000046</td>\n",
       "    </tr>\n",
       "    <tr>\n",
       "      <th>...</th>\n",
       "      <th>...</th>\n",
       "      <th>...</th>\n",
       "      <td>...</td>\n",
       "      <td>...</td>\n",
       "    </tr>\n",
       "    <tr>\n",
       "      <th rowspan=\"5\" valign=\"top\">sorted</th>\n",
       "      <th>64</th>\n",
       "      <th>merge_sort</th>\n",
       "      <td>1</td>\n",
       "      <td>0.000340</td>\n",
       "    </tr>\n",
       "    <tr>\n",
       "      <th>128</th>\n",
       "      <th>merge_sort</th>\n",
       "      <td>1</td>\n",
       "      <td>0.000721</td>\n",
       "    </tr>\n",
       "    <tr>\n",
       "      <th>256</th>\n",
       "      <th>merge_sort</th>\n",
       "      <td>1</td>\n",
       "      <td>0.001542</td>\n",
       "    </tr>\n",
       "    <tr>\n",
       "      <th>512</th>\n",
       "      <th>merge_sort</th>\n",
       "      <td>1</td>\n",
       "      <td>0.003376</td>\n",
       "    </tr>\n",
       "    <tr>\n",
       "      <th>1024</th>\n",
       "      <th>merge_sort</th>\n",
       "      <td>1</td>\n",
       "      <td>0.007071</td>\n",
       "    </tr>\n",
       "  </tbody>\n",
       "</table>\n",
       "<p>66 rows × 2 columns</p>\n",
       "</div>"
      ],
      "text/plain": [
       "                                          run number      time\n",
       "input order input size sorting algorithm                      \n",
       "random      1          insertion_sort              1  0.000001\n",
       "            2          insertion_sort              1  0.000002\n",
       "            4          insertion_sort              1  0.000007\n",
       "            8          insertion_sort              1  0.000015\n",
       "            16         insertion_sort              1  0.000046\n",
       "...                                              ...       ...\n",
       "sorted      64         merge_sort                  1  0.000340\n",
       "            128        merge_sort                  1  0.000721\n",
       "            256        merge_sort                  1  0.001542\n",
       "            512        merge_sort                  1  0.003376\n",
       "            1024       merge_sort                  1  0.007071\n",
       "\n",
       "[66 rows x 2 columns]"
      ]
     },
     "execution_count": 28,
     "metadata": {},
     "output_type": "execute_result"
    }
   ],
   "source": [
    "df_all.groupby"
   ]
  },
  {
   "cell_type": "code",
   "execution_count": null,
   "metadata": {},
   "outputs": [],
   "source": []
  }
 ],
 "metadata": {
  "kernelspec": {
   "display_name": "Python 3",
   "language": "python",
   "name": "python3"
  },
  "language_info": {
   "codemirror_mode": {
    "name": "ipython",
    "version": 3
   },
   "file_extension": ".py",
   "mimetype": "text/x-python",
   "name": "python",
   "nbconvert_exporter": "python",
   "pygments_lexer": "ipython3",
   "version": "3.8.3"
  }
 },
 "nbformat": 4,
 "nbformat_minor": 4
}
