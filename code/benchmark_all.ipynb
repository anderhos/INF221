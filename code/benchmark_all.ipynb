{
 "cells": [
  {
   "cell_type": "markdown",
   "metadata": {},
   "source": [
    "# Alogrithms"
   ]
  },
  {
   "cell_type": "markdown",
   "metadata": {},
   "source": [
    "## Quadratic Algorithms"
   ]
  },
  {
   "cell_type": "markdown",
   "metadata": {},
   "source": [
    "### InsertionSort"
   ]
  },
  {
   "cell_type": "code",
   "execution_count": 16,
   "metadata": {},
   "outputs": [],
   "source": [
    "# Code from L02\n",
    "\n",
    "def insertion_sort(A):\n",
    "    for j in range(1, len(A)):\n",
    "        key = A[j]\n",
    "        i = j - 1\n",
    "        while i >= 0 and A[i] > key:\n",
    "            A[i + 1] = A[i]\n",
    "            i = i - 1\n",
    "        A[i + 1] = key\n",
    "    return A"
   ]
  },
  {
   "cell_type": "markdown",
   "metadata": {},
   "source": [
    "### BubbleSort"
   ]
  },
  {
   "cell_type": "code",
   "execution_count": 17,
   "metadata": {},
   "outputs": [],
   "source": [
    "def bubble_sort(array):\n",
    "    for j in range(0, len(array)-2):\n",
    "        for k in range(len(array)-1, j, -1):\n",
    "            if array[k] < array[k-1]:\n",
    "                array[k], array[k-1] = array[k-1], array[k]\n",
    "    return array"
   ]
  },
  {
   "cell_type": "markdown",
   "metadata": {},
   "source": [
    "## Sub-quadratic Algorithms"
   ]
  },
  {
   "cell_type": "markdown",
   "metadata": {},
   "source": [
    "### MergeSort"
   ]
  },
  {
   "cell_type": "code",
   "execution_count": 18,
   "metadata": {},
   "outputs": [],
   "source": [
    "# Code from L03\n",
    "\n",
    "def merge(A, p, q, r):    \n",
    "    n1 = q - p + 1\n",
    "    n2 = r - q\n",
    "    \n",
    "    L = [0] * n1\n",
    "    R = [0] * n2\n",
    "\n",
    "    for i in list(range(n1)):\n",
    "        L[i] = A[p + i - 1]\n",
    "    \n",
    "    for j in list(range(n2)):\n",
    "        R[j] = A[q + j]\n",
    "    L.append(float('inf'))\n",
    "    R.append(float('inf'))\n",
    "\n",
    "    i = 1 - 1     # Subtract 1 to adjust to Python indexing\n",
    "    j = 1 - 1     # Subtract 1 to adjust to Python indexing\n",
    "    \n",
    "    for k in list(range(p - 1, r)):     # Subtract 1 from q to adjust to Python range object\n",
    "        if L[i] <= R[j]:\n",
    "            A[k] = L[i]\n",
    "            i = i + 1\n",
    "        else:\n",
    "            A[k] = R[j]\n",
    "            j = j + 1\n",
    "    return A"
   ]
  },
  {
   "cell_type": "code",
   "execution_count": 19,
   "metadata": {},
   "outputs": [],
   "source": [
    "# See page 34 book for algorithm\n",
    "def _merge_sort(A, p, r):\n",
    "    if p < r:\n",
    "        q = (p + r) // 2\n",
    "        _merge_sort(A, p, q)\n",
    "        _merge_sort(A, q + 1, r)\n",
    "        merge(A, p, q, r)\n",
    "    return A"
   ]
  },
  {
   "cell_type": "code",
   "execution_count": 20,
   "metadata": {},
   "outputs": [],
   "source": [
    "def merge_sort(A):\n",
    "    \"\"\"\n",
    "    Algorithm must take only one input parameter to \n",
    "    work in benchmarking with the Timer below\n",
    "    \n",
    "    Parameters\n",
    "    ----------\n",
    "    A : array\n",
    "        Numbers to be sorted\n",
    "    \"\"\"\n",
    "    p = 1\n",
    "    r = len(A)\n",
    "    _merge_sort(A, p, r)\n",
    "    return A\n",
    "        "
   ]
  },
  {
   "cell_type": "markdown",
   "metadata": {},
   "source": [
    "### QuickSort"
   ]
  },
  {
   "cell_type": "code",
   "execution_count": 21,
   "metadata": {},
   "outputs": [],
   "source": [
    "# Code from L07\n",
    "\n",
    "def partition(array, low, high):\n",
    "    \"\"\"DEFINE PARTITION FOR QUICKSORT\"\"\"\n",
    "    pivot = array[high]\n",
    "    i = (low - 1)\n",
    "    for j in range(low, high):\n",
    "        if array[j] <= pivot:\n",
    "            i = i + 1\n",
    "            array[i], array[j] = array[j], array[i]\n",
    "    array[i + 1], array[high] = array[high], array[i + 1]\n",
    "    return i + 1\n",
    "\n",
    "\n",
    "def quick_sort(array, low=0, high=None):\n",
    "    \"\"\"Sorts a list using the quicksort algorithm.\"\"\"\n",
    "    if high is None:\n",
    "        high = len(array) - 1\n",
    "    if low < high:\n",
    "        part = partition(array, low, high)\n",
    "        quick_sort(array, low, part - 1)\n",
    "        quick_sort(array, part + 1, high)\n",
    "    return array"
   ]
  },
  {
   "cell_type": "markdown",
   "metadata": {},
   "source": [
    "## Combined Algoriothms"
   ]
  },
  {
   "cell_type": "markdown",
   "metadata": {},
   "source": [
    "### MergeSort switching to InsertionSort for small data"
   ]
  },
  {
   "cell_type": "code",
   "execution_count": 22,
   "metadata": {},
   "outputs": [],
   "source": [
    "def combined_sort(A, p=1, n=100):\n",
    "    \"\"\"\n",
    "    Combined algorithm mergesort switching to insertion sort for small data\n",
    "    \n",
    "    Parameters\n",
    "    ----------\n",
    "    \n",
    "    A : array \n",
    "        Numbers to be sorted\n",
    "       \n",
    "    p : int\n",
    "        Start index. Default=1 for sorting the entire array.\n",
    "    \n",
    "    n : int\n",
    "        Threshold value when the function shifts sorting algorithm\n",
    "       \n",
    "    \"\"\"\n",
    "    if len(A) < n:\n",
    "        insertion_sort(A)\n",
    "    else:\n",
    "        _merge_sort(A, p, len(A))\n",
    "    return A"
   ]
  },
  {
   "cell_type": "markdown",
   "metadata": {},
   "source": [
    "## Built-in sorting functions"
   ]
  },
  {
   "cell_type": "markdown",
   "metadata": {},
   "source": [
    "## Python 'sort()'"
   ]
  },
  {
   "cell_type": "code",
   "execution_count": 23,
   "metadata": {},
   "outputs": [
    {
     "data": {
      "text/plain": [
       "<function sorted(iterable, /, *, key=None, reverse=False)>"
      ]
     },
     "execution_count": 23,
     "metadata": {},
     "output_type": "execute_result"
    }
   ],
   "source": [
    "sorted"
   ]
  },
  {
   "cell_type": "markdown",
   "metadata": {},
   "source": [
    "## NumPy 'sort()'"
   ]
  },
  {
   "cell_type": "code",
   "execution_count": 24,
   "metadata": {},
   "outputs": [
    {
     "data": {
      "text/plain": [
       "<function numpy.sort(a, axis=-1, kind=None, order=None)>"
      ]
     },
     "execution_count": 24,
     "metadata": {},
     "output_type": "execute_result"
    }
   ],
   "source": [
    "import numpy as np\n",
    "np.sort"
   ]
  },
  {
   "cell_type": "code",
   "execution_count": 25,
   "metadata": {},
   "outputs": [],
   "source": [
    "array=[0, -5, 4,8,2,-55, 1,0,-856,94, 9,78,5,-84,568]\n"
   ]
  },
  {
   "cell_type": "markdown",
   "metadata": {},
   "source": [
    "# Benchmarking"
   ]
  },
  {
   "cell_type": "code",
   "execution_count": 26,
   "metadata": {},
   "outputs": [],
   "source": [
    "import numpy as np\n",
    "import pandas as pd\n",
    "import timeit\n",
    "import copy\n",
    "import os.path"
   ]
  },
  {
   "cell_type": "code",
   "execution_count": 27,
   "metadata": {},
   "outputs": [],
   "source": [
    "def run_benchmark(sort_func,\n",
    "                  input_base,\n",
    "                  input_power,\n",
    "                  seed=None,\n",
    "                  save=True,\n",
    "                  num_runs=5):\n",
    "    \"\"\"\n",
    "    Run benchmark with given parameters\n",
    "\n",
    "    Parameters\n",
    "    ----------------------------------------------------------------------\n",
    "    sort_func: function\n",
    "               Algorithm to used for sorting.\n",
    "    input_power: int\n",
    "                 The power of the data size\n",
    "    seed: int, optional\n",
    "    save: bool, optional\n",
    "          Saving results to file. Default is True.\n",
    "    input_base: int, optional\n",
    "                Raise this number to input_power to determine data size\n",
    "    num_runs: int, optional\n",
    "              Number of runs at each test case\n",
    "    ----------------------------------------------------------------------\n",
    "    \"\"\"\n",
    "\n",
    "    input_size = input_base**input_power\n",
    "    # Create data frame for storing results\n",
    "    results = pd.DataFrame(columns=[\n",
    "        'input order', 'input size', 'run number', 'sorting algorithm', 'time'\n",
    "    ])\n",
    "    for order in ['sorted', 'reversed', 'random']:\n",
    "        for p in range(input_power + 1):\n",
    "\n",
    "            quicksort_recurrsion_limit = sort_func == quick_sort and (\n",
    "                order == 'sorted'\n",
    "                or order == 'reversed') and ((input_base == 10 and p > 3) or\n",
    "                                             (input_base == 2 and p > 11))\n",
    "            print(sort_func, order, input_base, p, num_runs)\n",
    "\n",
    "            if not quicksort_recurrsion_limit:\n",
    "\n",
    "                # Generate random data\n",
    "                rng = np.random.default_rng(seed)\n",
    "                test_data = rng.uniform(size=input_base**p)\n",
    "\n",
    "                # Presorting\n",
    "                if order == 'sorted':\n",
    "                    test_data = sorted(test_data)\n",
    "\n",
    "                elif order == 'reversed':\n",
    "                    test_data = list(reversed(sorted(test_data)))\n",
    "\n",
    "                # Timer function\n",
    "                clock = timeit.Timer(stmt='sort_func(copy(data))',\n",
    "                                     globals={\n",
    "                                         'sort_func': sort_func,\n",
    "                                         'data': test_data,\n",
    "                                         'copy': copy.copy\n",
    "                                     })\n",
    "                n_ar, t_ar = clock.autorange()\n",
    "                t = clock.repeat(repeat=7, number=n_ar)\n",
    "\n",
    "                # Print out average time over the number of runs for each data size\n",
    "                print(\n",
    "                    f\"Minimum time(s) on {order} data of size \"\n",
    "                    f\"{input_base**p}:\",\n",
    "                    np.min(t) / n_ar)\n",
    "\n",
    "                for run_number in range(num_runs):\n",
    "                    results = \\\n",
    "                        results.append(\n",
    "                            {'input order': order,\n",
    "                             'input size': input_base**p,\n",
    "                             'run number': run_number + 1,\n",
    "                             'sorting algorithm': f'{sort_func.__name__}',\n",
    "                             'time': t[run_number] / n_ar},\n",
    "                            ignore_index=True)\n",
    "        if save:\n",
    "            # Save pickled data frame to file in data directory\n",
    "            directory = '../data/'\n",
    "            filename = '{0}_n{1}^{2}.pkl'.format(sort_func.__name__, input_base, input_power)\n",
    "            file_path = os.path.join(directory, filename)\n",
    "            if not os.path.isdir(directory):\n",
    "                os.mkdir(directory)\n",
    "            results.to_pickle(file_path)\n",
    "            print()\n",
    "            print(f'Saved to path: {file_path}')"
   ]
  },
  {
   "cell_type": "code",
   "execution_count": 28,
   "metadata": {},
   "outputs": [],
   "source": [
    "import numpy as np\n",
    "import os"
   ]
  },
  {
   "cell_type": "code",
   "execution_count": 29,
   "metadata": {
    "run_control": {
     "marked": false
    }
   },
   "outputs": [],
   "source": [
    "sorting_functions = {\n",
    "#     'Python Sorted': sorted,\n",
    "#     'NumPy Sort': np.sort,\n",
    "#     'Quick Sort': quick_sort,\n",
    "#     'Combined Sort': combined_sort,\n",
    "#     'Merge Sort': merge_sort,\n",
    "    'Bubble Sort': bubble_sort,\n",
    "    'Insertion Sort': insertion_sort\n",
    "}"
   ]
  },
  {
   "cell_type": "code",
   "execution_count": null,
   "metadata": {
    "scrolled": false
   },
   "outputs": [
    {
     "name": "stdout",
     "output_type": "stream",
     "text": [
      "<built-in function sorted> sorted 10 0 5\n",
      "Minimum time(s) on sorted data of size 1: 1.1605459999999824e-06\n",
      "<built-in function sorted> sorted 10 1 5\n",
      "Minimum time(s) on sorted data of size 10: 2.231888000000026e-06\n",
      "<built-in function sorted> sorted 10 2 5\n",
      "Minimum time(s) on sorted data of size 100: 7.414527999999905e-06\n",
      "<built-in function sorted> sorted 10 3 5\n",
      "Minimum time(s) on sorted data of size 1000: 6.488566000000162e-05\n",
      "<built-in function sorted> sorted 10 4 5\n",
      "Minimum time(s) on sorted data of size 10000: 0.0005784605999999997\n",
      "<built-in function sorted> sorted 10 5 5\n",
      "Minimum time(s) on sorted data of size 100000: 0.006384835000000066\n",
      "<built-in function sorted> sorted 10 6 5\n",
      "Minimum time(s) on sorted data of size 1000000: 0.17183569999998838\n",
      "\n",
      "Saved to path: ../data/sorted_n10^6.pkl\n",
      "<built-in function sorted> reversed 10 0 5\n",
      "Minimum time(s) on reversed data of size 1: 9.173934999999744e-07\n",
      "<built-in function sorted> reversed 10 1 5\n",
      "Minimum time(s) on reversed data of size 10: 1.339636000000013e-06\n",
      "<built-in function sorted> reversed 10 2 5\n",
      "Minimum time(s) on reversed data of size 100: 6.073001999999974e-06\n",
      "<built-in function sorted> reversed 10 3 5\n",
      "Minimum time(s) on reversed data of size 1000: 4.91317400000014e-05\n",
      "<built-in function sorted> reversed 10 4 5\n",
      "Minimum time(s) on reversed data of size 10000: 0.000603539799999993\n",
      "<built-in function sorted> reversed 10 5 5\n",
      "Minimum time(s) on reversed data of size 100000: 0.009234634999999968\n",
      "<built-in function sorted> reversed 10 6 5\n",
      "Minimum time(s) on reversed data of size 1000000: 0.2028920999999997\n",
      "\n",
      "Saved to path: ../data/sorted_n10^6.pkl\n",
      "<built-in function sorted> random 10 0 5\n",
      "Minimum time(s) on random data of size 1: 4.022577999999726e-06\n",
      "<built-in function sorted> random 10 1 5\n",
      "Minimum time(s) on random data of size 10: 7.90892999999997e-06\n",
      "<built-in function sorted> random 10 2 5\n",
      "Minimum time(s) on random data of size 100: 4.980786000000137e-05\n",
      "<built-in function sorted> random 10 3 5\n",
      "Minimum time(s) on random data of size 1000: 0.0006230686000000106\n",
      "<built-in function sorted> random 10 4 5\n",
      "Minimum time(s) on random data of size 10000: 0.008332355000000291\n",
      "<built-in function sorted> random 10 5 5\n",
      "Minimum time(s) on random data of size 100000: 0.09017624999999896\n",
      "<built-in function sorted> random 10 6 5\n",
      "Minimum time(s) on random data of size 1000000: 1.4358587000000114\n",
      "\n",
      "Saved to path: ../data/sorted_n10^6.pkl\n",
      "<function sort at 0x000002B15F173798> sorted 10 0 5\n",
      "Minimum time(s) on sorted data of size 1: 5.375081999999906e-06\n",
      "<function sort at 0x000002B15F173798> sorted 10 1 5\n",
      "Minimum time(s) on sorted data of size 10: 7.733822000000146e-06\n",
      "<function sort at 0x000002B15F173798> sorted 10 2 5\n",
      "Minimum time(s) on sorted data of size 100: 1.9959919999999444e-05\n",
      "<function sort at 0x000002B15F173798> sorted 10 3 5\n",
      "Minimum time(s) on sorted data of size 1000: 0.00013193485000000747\n",
      "<function sort at 0x000002B15F173798> sorted 10 4 5\n",
      "Minimum time(s) on sorted data of size 10000: 0.0013002459999999871\n",
      "<function sort at 0x000002B15F173798> sorted 10 5 5\n",
      "Minimum time(s) on sorted data of size 100000: 0.020178780000000528\n",
      "<function sort at 0x000002B15F173798> sorted 10 6 5\n",
      "Minimum time(s) on sorted data of size 1000000: 0.3878181999999981\n",
      "\n",
      "Saved to path: ../data/sort_n10^6.pkl\n",
      "<function sort at 0x000002B15F173798> reversed 10 0 5\n",
      "Minimum time(s) on reversed data of size 1: 5.993225999999936e-06\n",
      "<function sort at 0x000002B15F173798> reversed 10 1 5\n",
      "Minimum time(s) on reversed data of size 10: 7.937733999999637e-06\n",
      "<function sort at 0x000002B15F173798> reversed 10 2 5\n",
      "Minimum time(s) on reversed data of size 100: 1.6724980000000754e-05\n",
      "<function sort at 0x000002B15F173798> reversed 10 3 5\n",
      "Minimum time(s) on reversed data of size 1000: 0.00013492095000000858\n",
      "<function sort at 0x000002B15F173798> reversed 10 4 5\n",
      "Minimum time(s) on reversed data of size 10000: 0.001232682499999953\n",
      "<function sort at 0x000002B15F173798> reversed 10 5 5\n",
      "Minimum time(s) on reversed data of size 100000: 0.021747820000000216\n",
      "<function sort at 0x000002B15F173798> reversed 10 6 5\n",
      "Minimum time(s) on reversed data of size 1000000: 0.329420099999993\n",
      "\n",
      "Saved to path: ../data/sort_n10^6.pkl\n",
      "<function sort at 0x000002B15F173798> random 10 0 5\n",
      "Minimum time(s) on random data of size 1: 4.326282000000105e-06\n",
      "<function sort at 0x000002B15F173798> random 10 1 5\n",
      "Minimum time(s) on random data of size 10: 5.213372000000049e-06\n",
      "<function sort at 0x000002B15F173798> random 10 2 5\n",
      "Minimum time(s) on random data of size 100: 5.825051999999573e-06\n",
      "<function sort at 0x000002B15F173798> random 10 3 5\n",
      "Minimum time(s) on random data of size 1000: 3.6048999999997025e-05\n",
      "<function sort at 0x000002B15F173798> random 10 4 5\n",
      "Minimum time(s) on random data of size 10000: 0.0007032477999999856\n",
      "<function sort at 0x000002B15F173798> random 10 5 5\n",
      "Minimum time(s) on random data of size 100000: 0.009625164999999925\n",
      "<function sort at 0x000002B15F173798> random 10 6 5\n",
      "Minimum time(s) on random data of size 1000000: 0.1177377499999892\n",
      "\n",
      "Saved to path: ../data/sort_n10^6.pkl\n",
      "<function quick_sort at 0x000002B161C48168> sorted 10 0 5\n",
      "Minimum time(s) on sorted data of size 1: 6.449654999998699e-07\n",
      "<function quick_sort at 0x000002B161C48168> sorted 10 1 5\n",
      "Minimum time(s) on sorted data of size 10: 2.717904999999803e-05\n",
      "<function quick_sort at 0x000002B161C48168> sorted 10 2 5\n",
      "Minimum time(s) on sorted data of size 100: 0.001275428000000005\n",
      "<function quick_sort at 0x000002B161C48168> sorted 10 3 5\n",
      "Minimum time(s) on sorted data of size 1000: 0.14972769999999969\n",
      "<function quick_sort at 0x000002B161C48168> sorted 10 4 5\n",
      "<function quick_sort at 0x000002B161C48168> sorted 10 5 5\n",
      "<function quick_sort at 0x000002B161C48168> sorted 10 6 5\n",
      "\n",
      "Saved to path: ../data/quick_sort_n10^6.pkl\n",
      "<function quick_sort at 0x000002B161C48168> reversed 10 0 5\n",
      "Minimum time(s) on reversed data of size 1: 7.740294999999264e-07\n",
      "<function quick_sort at 0x000002B161C48168> reversed 10 1 5\n",
      "Minimum time(s) on reversed data of size 10: 2.2511180000000763e-05\n",
      "<function quick_sort at 0x000002B161C48168> reversed 10 2 5\n",
      "Minimum time(s) on reversed data of size 100: 0.0008794789999998898\n",
      "<function quick_sort at 0x000002B161C48168> reversed 10 3 5\n",
      "Minimum time(s) on reversed data of size 1000: 0.13231745000000217\n",
      "<function quick_sort at 0x000002B161C48168> reversed 10 4 5\n",
      "<function quick_sort at 0x000002B161C48168> reversed 10 5 5\n",
      "<function quick_sort at 0x000002B161C48168> reversed 10 6 5\n",
      "\n",
      "Saved to path: ../data/quick_sort_n10^6.pkl\n",
      "<function quick_sort at 0x000002B161C48168> random 10 0 5\n",
      "Minimum time(s) on random data of size 1: 2.0227250000002073e-06\n",
      "<function quick_sort at 0x000002B161C48168> random 10 1 5\n",
      "Minimum time(s) on random data of size 10: 3.836094000000116e-05\n",
      "<function quick_sort at 0x000002B161C48168> random 10 2 5\n",
      "Minimum time(s) on random data of size 100: 0.0005572799999999916\n",
      "<function quick_sort at 0x000002B161C48168> random 10 3 5\n",
      "Minimum time(s) on random data of size 1000: 0.009109884000000078\n",
      "<function quick_sort at 0x000002B161C48168> random 10 4 5\n",
      "Minimum time(s) on random data of size 10000: 0.09870809999999608\n",
      "<function quick_sort at 0x000002B161C48168> random 10 5 5\n",
      "Minimum time(s) on random data of size 100000: 1.5583115999999961\n",
      "<function quick_sort at 0x000002B161C48168> random 10 6 5\n",
      "Minimum time(s) on random data of size 1000000: 19.795045200000004\n",
      "\n",
      "Saved to path: ../data/quick_sort_n10^6.pkl\n",
      "<function combined_sort at 0x000002B161C48678> sorted 10 0 5\n",
      "Minimum time(s) on sorted data of size 1: 1.3573765000001004e-06\n",
      "<function combined_sort at 0x000002B161C48678> sorted 10 1 5\n",
      "Minimum time(s) on sorted data of size 10: 3.721435999999585e-06\n",
      "<function combined_sort at 0x000002B161C48678> sorted 10 2 5\n",
      "Minimum time(s) on sorted data of size 100: 0.0006257967999999892\n",
      "<function combined_sort at 0x000002B161C48678> sorted 10 3 5\n",
      "Minimum time(s) on sorted data of size 1000: 0.00884610999999893\n",
      "<function combined_sort at 0x000002B161C48678> sorted 10 4 5\n",
      "Minimum time(s) on sorted data of size 10000: 0.0973251500000174\n",
      "<function combined_sort at 0x000002B161C48678> sorted 10 5 5\n",
      "Minimum time(s) on sorted data of size 100000: 1.362762699999962\n",
      "<function combined_sort at 0x000002B161C48678> sorted 10 6 5\n"
     ]
    },
    {
     "name": "stdout",
     "output_type": "stream",
     "text": [
      "Minimum time(s) on sorted data of size 1000000: 18.023425299999985\n",
      "\n",
      "Saved to path: ../data/combined_sort_n10^6.pkl\n",
      "<function combined_sort at 0x000002B161C48678> reversed 10 0 5\n",
      "Minimum time(s) on reversed data of size 1: 1.3944800000001578e-06\n",
      "<function combined_sort at 0x000002B161C48678> reversed 10 1 5\n",
      "Minimum time(s) on reversed data of size 10: 1.6879894999999577e-05\n",
      "<function combined_sort at 0x000002B161C48678> reversed 10 2 5\n",
      "Minimum time(s) on reversed data of size 100: 0.0006825963999999658\n",
      "<function combined_sort at 0x000002B161C48678> reversed 10 3 5\n",
      "Minimum time(s) on reversed data of size 1000: 0.008634443999999348\n",
      "<function combined_sort at 0x000002B161C48678> reversed 10 4 5\n",
      "Minimum time(s) on reversed data of size 10000: 0.10166655000000446\n",
      "<function combined_sort at 0x000002B161C48678> reversed 10 5 5\n",
      "Minimum time(s) on reversed data of size 100000: 1.4909580999999434\n",
      "<function combined_sort at 0x000002B161C48678> reversed 10 6 5\n",
      "Minimum time(s) on reversed data of size 1000000: 18.49712169999998\n",
      "\n",
      "Saved to path: ../data/combined_sort_n10^6.pkl\n",
      "<function combined_sort at 0x000002B161C48678> random 10 0 5\n",
      "Minimum time(s) on random data of size 1: 2.253532999999379e-06\n",
      "<function combined_sort at 0x000002B161C48678> random 10 1 5\n",
      "Minimum time(s) on random data of size 10: 2.022845999999845e-05\n",
      "<function combined_sort at 0x000002B161C48678> random 10 2 5\n",
      "Minimum time(s) on random data of size 100: 0.0009287446000000727\n",
      "<function combined_sort at 0x000002B161C48678> random 10 3 5\n",
      "Minimum time(s) on random data of size 1000: 0.01007867999999803\n",
      "<function combined_sort at 0x000002B161C48678> random 10 4 5\n",
      "Minimum time(s) on random data of size 10000: 0.11944514999999001\n",
      "<function combined_sort at 0x000002B161C48678> random 10 5 5\n",
      "Minimum time(s) on random data of size 100000: 1.738419800000088\n",
      "<function combined_sort at 0x000002B161C48678> random 10 6 5\n",
      "Minimum time(s) on random data of size 1000000: 20.661064399999987\n",
      "\n",
      "Saved to path: ../data/combined_sort_n10^6.pkl\n",
      "<function merge_sort at 0x000002B15F4C64C8> sorted 10 0 5\n",
      "Minimum time(s) on sorted data of size 1: 9.491859999997132e-07\n",
      "<function merge_sort at 0x000002B15F4C64C8> sorted 10 1 5\n",
      "Minimum time(s) on sorted data of size 10: 5.550399999999627e-05\n",
      "<function merge_sort at 0x000002B15F4C64C8> sorted 10 2 5\n",
      "Minimum time(s) on sorted data of size 100: 0.0006530933999999889\n",
      "<function merge_sort at 0x000002B15F4C64C8> sorted 10 3 5\n",
      "Minimum time(s) on sorted data of size 1000: 0.007929904999997461\n",
      "<function merge_sort at 0x000002B15F4C64C8> sorted 10 4 5\n",
      "Minimum time(s) on sorted data of size 10000: 0.1061563000000092\n",
      "<function merge_sort at 0x000002B15F4C64C8> sorted 10 5 5\n",
      "Minimum time(s) on sorted data of size 100000: 2.352339700000016\n",
      "<function merge_sort at 0x000002B15F4C64C8> sorted 10 6 5\n",
      "Minimum time(s) on sorted data of size 1000000: 16.506996300000083\n",
      "\n",
      "Saved to path: ../data/merge_sort_n10^6.pkl\n",
      "<function merge_sort at 0x000002B15F4C64C8> reversed 10 0 5\n",
      "Minimum time(s) on reversed data of size 1: 8.845676000000821e-07\n",
      "<function merge_sort at 0x000002B15F4C64C8> reversed 10 1 5\n",
      "Minimum time(s) on reversed data of size 10: 3.95155799999884e-05\n",
      "<function merge_sort at 0x000002B15F4C64C8> reversed 10 2 5\n",
      "Minimum time(s) on reversed data of size 100: 0.0006146708000001127\n",
      "<function merge_sort at 0x000002B15F4C64C8> reversed 10 3 5\n",
      "Minimum time(s) on reversed data of size 1000: 0.009113769999999022\n",
      "<function merge_sort at 0x000002B15F4C64C8> reversed 10 4 5\n",
      "Minimum time(s) on reversed data of size 10000: 0.10453502000000299\n",
      "<function merge_sort at 0x000002B15F4C64C8> reversed 10 5 5\n",
      "Minimum time(s) on reversed data of size 100000: 1.3174910000000182\n",
      "<function merge_sort at 0x000002B15F4C64C8> reversed 10 6 5\n",
      "Minimum time(s) on reversed data of size 1000000: 17.302055899999914\n",
      "\n",
      "Saved to path: ../data/merge_sort_n10^6.pkl\n",
      "<function merge_sort at 0x000002B15F4C64C8> random 10 0 5\n",
      "Minimum time(s) on random data of size 1: 1.7268799999999373e-06\n",
      "<function merge_sort at 0x000002B15F4C64C8> random 10 1 5\n",
      "Minimum time(s) on random data of size 10: 6.141944000000876e-05\n",
      "<function merge_sort at 0x000002B15F4C64C8> random 10 2 5\n",
      "Minimum time(s) on random data of size 100: 0.0008842874000001757\n",
      "<function merge_sort at 0x000002B15F4C64C8> random 10 3 5\n",
      "Minimum time(s) on random data of size 1000: 0.009293085000001611\n",
      "<function merge_sort at 0x000002B15F4C64C8> random 10 4 5\n",
      "Minimum time(s) on random data of size 10000: 0.23194459999990613\n",
      "<function merge_sort at 0x000002B15F4C64C8> random 10 5 5\n",
      "Minimum time(s) on random data of size 100000: 1.3690334999998868\n",
      "<function merge_sort at 0x000002B15F4C64C8> random 10 6 5\n",
      "Minimum time(s) on random data of size 1000000: 17.108473599999797\n",
      "\n",
      "Saved to path: ../data/merge_sort_n10^6.pkl\n",
      "<function bubble_sort at 0x000002B161CDCA68> sorted 10 0 5\n",
      "Minimum time(s) on sorted data of size 1: 1.2390844999993078e-06\n",
      "<function bubble_sort at 0x000002B161CDCA68> sorted 10 1 5\n",
      "Minimum time(s) on sorted data of size 10: 1.1649275000002035e-05\n",
      "<function bubble_sort at 0x000002B161CDCA68> sorted 10 2 5\n",
      "Minimum time(s) on sorted data of size 100: 0.0007198188000002119\n",
      "<function bubble_sort at 0x000002B161CDCA68> sorted 10 3 5\n",
      "Minimum time(s) on sorted data of size 1000: 0.096687940000038\n",
      "<function bubble_sort at 0x000002B161CDCA68> sorted 10 4 5\n",
      "Minimum time(s) on sorted data of size 10000: 8.065978100000166\n",
      "<function bubble_sort at 0x000002B161CDCA68> sorted 10 5 5\n"
     ]
    }
   ],
   "source": [
    "for title, sort in sorting_functions.items():\n",
    "    run_benchmark(sort, input_base=10, input_power=6, seed=12)"
   ]
  },
  {
   "cell_type": "code",
   "execution_count": null,
   "metadata": {},
   "outputs": [],
   "source": []
  }
 ],
 "metadata": {
  "hide_input": false,
  "kernelspec": {
   "display_name": "Python 3",
   "language": "python",
   "name": "python3"
  },
  "toc": {
   "base_numbering": 1,
   "nav_menu": {},
   "number_sections": true,
   "sideBar": true,
   "skip_h1_title": false,
   "title_cell": "Table of Contents",
   "title_sidebar": "Contents",
   "toc_cell": false,
   "toc_position": {},
   "toc_section_display": true,
   "toc_window_display": false
  },
  "varInspector": {
   "cols": {
    "lenName": 16,
    "lenType": 16,
    "lenVar": 40
   },
   "kernels_config": {
    "python": {
     "delete_cmd_postfix": "",
     "delete_cmd_prefix": "del ",
     "library": "var_list.py",
     "varRefreshCmd": "print(var_dic_list())"
    },
    "r": {
     "delete_cmd_postfix": ") ",
     "delete_cmd_prefix": "rm(",
     "library": "var_list.r",
     "varRefreshCmd": "cat(var_dic_list()) "
    }
   },
   "types_to_exclude": [
    "module",
    "function",
    "builtin_function_or_method",
    "instance",
    "_Feature"
   ],
   "window_display": false
  }
 },
 "nbformat": 4,
 "nbformat_minor": 4
}
