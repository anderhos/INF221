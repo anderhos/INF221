{
 "cells": [
  {
   "cell_type": "code",
   "execution_count": null,
   "metadata": {},
   "outputs": [],
   "source": []
  },
  {
   "cell_type": "markdown",
   "metadata": {},
   "source": [
    "# Alogrithms"
   ]
  },
  {
   "cell_type": "markdown",
   "metadata": {},
   "source": [
    "## Quadratic Algorithms"
   ]
  },
  {
   "cell_type": "markdown",
   "metadata": {},
   "source": [
    "### InsertionSort"
   ]
  },
  {
   "cell_type": "code",
   "execution_count": 4,
   "metadata": {},
   "outputs": [],
   "source": [
    "# Code from L02\n",
    "\n",
    "def insertion_sort(A):\n",
    "    for j in range(1, len(A)):\n",
    "        key = A[j]\n",
    "        i = j - 1\n",
    "        while i >= 0 and A[i] > key:\n",
    "            A[i + 1] = A[i]\n",
    "            i = i - 1\n",
    "        A[i + 1] = key\n",
    "    return A"
   ]
  },
  {
   "cell_type": "markdown",
   "metadata": {},
   "source": [
    "### BubbleSort"
   ]
  },
  {
   "cell_type": "code",
   "execution_count": 5,
   "metadata": {},
   "outputs": [],
   "source": [
    "def bubble_sort(array):\n",
    "    for j in range(0, len(array)-2):\n",
    "        for k in range(len(array)-1, j, -1):\n",
    "            if array[k] < array[k-1]:\n",
    "                array[k], array[k-1] = array[k-1], array[k]\n",
    "    return array"
   ]
  },
  {
   "cell_type": "markdown",
   "metadata": {},
   "source": [
    "## Sub-quadratic Algorithms"
   ]
  },
  {
   "cell_type": "markdown",
   "metadata": {},
   "source": [
    "### MergeSort"
   ]
  },
  {
   "cell_type": "code",
   "execution_count": 6,
   "metadata": {},
   "outputs": [],
   "source": [
    "# Code from L03\n",
    "\n",
    "def merge(A, p, q, r):    \n",
    "    n1 = q - p + 1\n",
    "    n2 = r - q\n",
    "    \n",
    "    L = [0] * n1\n",
    "    R = [0] * n2\n",
    "\n",
    "    for i in list(range(n1)):\n",
    "        L[i] = A[p + i - 1]\n",
    "    \n",
    "    for j in list(range(n2)):\n",
    "        R[j] = A[q + j]\n",
    "    L.append(float('inf'))\n",
    "    R.append(float('inf'))\n",
    "\n",
    "    i = 1 - 1     # Subtract 1 to adjust to Python indexing\n",
    "    j = 1 - 1     # Subtract 1 to adjust to Python indexing\n",
    "    \n",
    "    for k in list(range(p - 1, r)):     # Subtract 1 from q to adjust to Python range object\n",
    "        if L[i] <= R[j]:\n",
    "            A[k] = L[i]\n",
    "            i = i + 1\n",
    "        else:\n",
    "            A[k] = R[j]\n",
    "            j = j + 1\n",
    "    return A"
   ]
  },
  {
   "cell_type": "code",
   "execution_count": 7,
   "metadata": {},
   "outputs": [],
   "source": [
    "# See page 34 book for algorithm\n",
    "def _merge_sort(A, p, r):\n",
    "    if p < r:\n",
    "        q = (p + r) // 2\n",
    "        _merge_sort(A, p, q)\n",
    "        _merge_sort(A, q + 1, r)\n",
    "        merge(A, p, q, r)\n",
    "    return A"
   ]
  },
  {
   "cell_type": "code",
   "execution_count": 8,
   "metadata": {},
   "outputs": [],
   "source": [
    "def merge_sort(A):\n",
    "    \"\"\"\n",
    "    Algorithm must take only one input parameter to \n",
    "    work in benchmarking with the Timer below\n",
    "    \n",
    "    Parameters\n",
    "    ----------\n",
    "    A : array\n",
    "        Numbers to be sorted\n",
    "    \"\"\"\n",
    "    p = 1\n",
    "    r = len(A)\n",
    "    _merge_sort(A, p, r)\n",
    "    return A\n",
    "        "
   ]
  },
  {
   "cell_type": "markdown",
   "metadata": {},
   "source": [
    "### QuickSort"
   ]
  },
  {
   "cell_type": "code",
   "execution_count": 9,
   "metadata": {},
   "outputs": [],
   "source": [
    "# Code from L07\n",
    "\n",
    "def partition(array, low, high):\n",
    "    \"\"\"DEFINE PARTITION FOR QUICKSORT\"\"\"\n",
    "    pivot = array[high]\n",
    "    i = (low - 1)\n",
    "    for j in range(low, high):\n",
    "        if array[j] <= pivot:\n",
    "            i = i + 1\n",
    "            array[i], array[j] = array[j], array[i]\n",
    "    array[i + 1], array[high] = array[high], array[i + 1]\n",
    "    return i + 1\n",
    "\n",
    "\n",
    "def quick_sort(array, low=0, high=None):\n",
    "    \"\"\"Sorts a list using the quicksort algorithm.\"\"\"\n",
    "    if high is None:\n",
    "        high = len(array) - 1\n",
    "    if low < high:\n",
    "        part = partition(array, low, high)\n",
    "        quick_sort(array, low, part - 1)\n",
    "        quick_sort(array, part + 1, high)\n",
    "    return array"
   ]
  },
  {
   "cell_type": "markdown",
   "metadata": {},
   "source": [
    "## Combined Algoriothms"
   ]
  },
  {
   "cell_type": "markdown",
   "metadata": {},
   "source": [
    "### MergeSort switching to InsertionSort for small data"
   ]
  },
  {
   "cell_type": "code",
   "execution_count": 10,
   "metadata": {},
   "outputs": [],
   "source": [
    "def combined_sort(A, p=1, n=100):\n",
    "    \"\"\"\n",
    "    Combined algorithm mergesort switching to insertion sort for small data\n",
    "    \n",
    "    Parameters\n",
    "    ----------\n",
    "    \n",
    "    A : array \n",
    "        Numbers to be sorted\n",
    "       \n",
    "    p : int\n",
    "        Start index. Default=1 for sorting the entire array.\n",
    "    \n",
    "    n : int\n",
    "        Threshold value when the function shifts sorting algorithm\n",
    "       \n",
    "    \"\"\"\n",
    "    if len(A) < n:\n",
    "        insertion_sort(A)\n",
    "    else:\n",
    "        _merge_sort(A, p, len(A))\n",
    "    return A"
   ]
  },
  {
   "cell_type": "markdown",
   "metadata": {},
   "source": [
    "## Built-in sorting functions"
   ]
  },
  {
   "cell_type": "markdown",
   "metadata": {},
   "source": [
    "## Python 'sort()'"
   ]
  },
  {
   "cell_type": "code",
   "execution_count": null,
   "metadata": {},
   "outputs": [],
   "source": []
  },
  {
   "cell_type": "markdown",
   "metadata": {},
   "source": [
    "## NumPy 'sort()'"
   ]
  },
  {
   "cell_type": "code",
   "execution_count": null,
   "metadata": {},
   "outputs": [],
   "source": []
  },
  {
   "cell_type": "code",
   "execution_count": 3,
   "metadata": {},
   "outputs": [],
   "source": [
    "array=[0, -5, 4,8,2,-55, 1,0,-856,94, 9,78,5,-84,568]\n"
   ]
  },
  {
   "cell_type": "markdown",
   "metadata": {},
   "source": [
    "### Benchmarking"
   ]
  },
  {
   "cell_type": "code",
   "execution_count": 6,
   "metadata": {},
   "outputs": [
    {
     "data": {
      "text/plain": [
       "[-856, -84, -55, -5, 0, 0, 1, 2, 4, 5, 8, 9, 78, 94, 568]"
      ]
     },
     "execution_count": 6,
     "metadata": {},
     "output_type": "execute_result"
    }
   ],
   "source": []
  },
  {
   "cell_type": "code",
   "execution_count": null,
   "metadata": {},
   "outputs": [],
   "source": [
    "from benchmarking import run_benchmark"
   ]
  },
  {
   "cell_type": "code",
   "execution_count": 25,
   "metadata": {},
   "outputs": [
    {
     "name": "stdout",
     "output_type": "stream",
     "text": [
      "Minimum time(s) on sorted data of size 1: 4.6549859999868205e-07\n",
      "Minimum time(s) on sorted data of size 2: 1.4222649999919668e-06\n",
      "Minimum time(s) on sorted data of size 4: 3.869225999987975e-06\n",
      "Minimum time(s) on sorted data of size 8: 1.015809000000445e-05\n",
      "Minimum time(s) on sorted data of size 16: 3.3021019999978305e-05\n",
      "Minimum time(s) on sorted data of size 32: 0.0001399125499992806\n",
      "Minimum time(s) on sorted data of size 64: 0.0003925122000000556\n",
      "Minimum time(s) on sorted data of size 128: 0.0014683160000004136\n",
      "Minimum time(s) on sorted data of size 256: 0.005551943999998912\n",
      "Minimum time(s) on sorted data of size 512: 0.02337349000008544\n",
      "Minimum time(s) on sorted data of size 1024: 0.08877986000006785\n",
      "Minimum time(s) on sorted data of size 2048: 0.45030320000114443\n",
      "Minimum time(s) on reversed data of size 1: 5.101451999980781e-07\n",
      "Minimum time(s) on reversed data of size 2: 1.419414499996492e-06\n",
      "Minimum time(s) on reversed data of size 4: 3.899638999992021e-06\n",
      "Minimum time(s) on reversed data of size 8: 9.05902500007869e-06\n",
      "Minimum time(s) on reversed data of size 16: 2.3452560000077938e-05\n",
      "Minimum time(s) on reversed data of size 32: 8.746676000009757e-05\n",
      "Minimum time(s) on reversed data of size 64: 0.0002729839000003267\n",
      "Minimum time(s) on reversed data of size 128: 0.0009189299999979994\n",
      "Minimum time(s) on reversed data of size 256: 0.003375320000013744\n",
      "Minimum time(s) on reversed data of size 512: 0.014721000000008644\n",
      "Minimum time(s) on reversed data of size 1024: 0.058524540000144044\n",
      "Minimum time(s) on reversed data of size 2048: 0.26900930000010703\n",
      "Minimum time(s) on random data of size 1: 9.527509999952599e-07\n",
      "Minimum time(s) on random data of size 2: 2.807331999993039e-06\n",
      "Minimum time(s) on random data of size 4: 4.534826000017347e-06\n",
      "Minimum time(s) on random data of size 8: 1.6810440000062955e-05\n",
      "Minimum time(s) on random data of size 16: 3.5377599999992524e-05\n",
      "Minimum time(s) on random data of size 32: 7.88983599999483e-05\n",
      "Minimum time(s) on random data of size 64: 0.0001677472500005024\n",
      "Minimum time(s) on random data of size 128: 0.0004448475999997754\n",
      "Minimum time(s) on random data of size 256: 0.0008325482000000193\n",
      "Minimum time(s) on random data of size 512: 0.002342069000005722\n",
      "Minimum time(s) on random data of size 1024: 0.004519890000010491\n",
      "Minimum time(s) on random data of size 2048: 0.012336309999955119\n",
      "\n",
      "Saved to path: ../data/quick_sort_n2048.pkl\n"
     ]
    }
   ],
   "source": [
    "run_benchmark(quick_sort, input_base=2, input_power=11, seed=12)"
   ]
  },
  {
   "cell_type": "code",
   "execution_count": null,
   "metadata": {},
   "outputs": [],
   "source": [
    "from benchmarking import run_benchmark"
   ]
  }
 ],
 "metadata": {
  "hide_input": false,
  "kernelspec": {
   "display_name": "Python 3",
   "language": "python",
   "name": "python3"
  },
  "language_info": {
   "codemirror_mode": {
    "name": "ipython",
    "version": 3
   },
   "file_extension": ".py",
   "mimetype": "text/x-python",
   "name": "python",
   "nbconvert_exporter": "python",
   "pygments_lexer": "ipython3",
   "version": "3.7.9"
  },
  "toc": {
   "base_numbering": 1,
   "nav_menu": {},
   "number_sections": true,
   "sideBar": true,
   "skip_h1_title": false,
   "title_cell": "Table of Contents",
   "title_sidebar": "Contents",
   "toc_cell": false,
   "toc_position": {},
   "toc_section_display": true,
   "toc_window_display": false
  },
  "varInspector": {
   "cols": {
    "lenName": 16,
    "lenType": 16,
    "lenVar": 40
   },
   "kernels_config": {
    "python": {
     "delete_cmd_postfix": "",
     "delete_cmd_prefix": "del ",
     "library": "var_list.py",
     "varRefreshCmd": "print(var_dic_list())"
    },
    "r": {
     "delete_cmd_postfix": ") ",
     "delete_cmd_prefix": "rm(",
     "library": "var_list.r",
     "varRefreshCmd": "cat(var_dic_list()) "
    }
   },
   "types_to_exclude": [
    "module",
    "function",
    "builtin_function_or_method",
    "instance",
    "_Feature"
   ],
   "window_display": false
  }
 },
 "nbformat": 4,
 "nbformat_minor": 4
}
