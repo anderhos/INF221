{
 "cells": [
  {
   "cell_type": "markdown",
   "metadata": {},
   "source": [
    "# Alogrithms"
   ]
  },
  {
   "cell_type": "markdown",
   "metadata": {},
   "source": [
    "## Quadratic Algorithms"
   ]
  },
  {
   "cell_type": "markdown",
   "metadata": {},
   "source": [
    "### InsertionSort"
   ]
  },
  {
   "cell_type": "code",
   "execution_count": 4,
   "metadata": {},
   "outputs": [],
   "source": [
    "# Code from L02\n",
    "\n",
    "def insertion_sort(A):\n",
    "    for j in range(1, len(A)):\n",
    "        key = A[j]\n",
    "        i = j - 1\n",
    "        while i >= 0 and A[i] > key:\n",
    "            A[i + 1] = A[i]\n",
    "            i = i - 1\n",
    "        A[i + 1] = key\n",
    "    return A"
   ]
  },
  {
   "cell_type": "markdown",
   "metadata": {},
   "source": [
    "### BubbleSort"
   ]
  },
  {
   "cell_type": "code",
   "execution_count": 5,
   "metadata": {},
   "outputs": [],
   "source": [
    "def bubble_sort(array):\n",
    "    for j in range(0, len(array)-2):\n",
    "        for k in range(len(array)-1, j, -1):\n",
    "            if array[k] < array[k-1]:\n",
    "                array[k], array[k-1] = array[k-1], array[k]\n",
    "    return array"
   ]
  },
  {
   "cell_type": "markdown",
   "metadata": {},
   "source": [
    "## Sub-quadratic Algorithms"
   ]
  },
  {
   "cell_type": "markdown",
   "metadata": {},
   "source": [
    "### MergeSort"
   ]
  },
  {
   "cell_type": "code",
   "execution_count": 6,
   "metadata": {},
   "outputs": [],
   "source": [
    "# Code from L03\n",
    "\n",
    "def merge(A, p, q, r):    \n",
    "    n1 = q - p + 1\n",
    "    n2 = r - q\n",
    "    \n",
    "    L = [0] * n1\n",
    "    R = [0] * n2\n",
    "\n",
    "    for i in list(range(n1)):\n",
    "        L[i] = A[p + i - 1]\n",
    "    \n",
    "    for j in list(range(n2)):\n",
    "        R[j] = A[q + j]\n",
    "    L.append(float('inf'))\n",
    "    R.append(float('inf'))\n",
    "\n",
    "    i = 1 - 1     # Subtract 1 to adjust to Python indexing\n",
    "    j = 1 - 1     # Subtract 1 to adjust to Python indexing\n",
    "    \n",
    "    for k in list(range(p - 1, r)):     # Subtract 1 from q to adjust to Python range object\n",
    "        if L[i] <= R[j]:\n",
    "            A[k] = L[i]\n",
    "            i = i + 1\n",
    "        else:\n",
    "            A[k] = R[j]\n",
    "            j = j + 1\n",
    "    return A"
   ]
  },
  {
   "cell_type": "code",
   "execution_count": 7,
   "metadata": {},
   "outputs": [],
   "source": [
    "# See page 34 book for algorithm\n",
    "def _merge_sort(A, p, r):\n",
    "    if p < r:\n",
    "        q = (p + r) // 2\n",
    "        _merge_sort(A, p, q)\n",
    "        _merge_sort(A, q + 1, r)\n",
    "        merge(A, p, q, r)\n",
    "    return A"
   ]
  },
  {
   "cell_type": "code",
   "execution_count": 8,
   "metadata": {},
   "outputs": [],
   "source": [
    "def merge_sort(A):\n",
    "    \"\"\"\n",
    "    Algorithm must take only one input parameter to \n",
    "    work in benchmarking with the Timer below\n",
    "    \n",
    "    Parameters\n",
    "    ----------\n",
    "    A : array\n",
    "        Numbers to be sorted\n",
    "    \"\"\"\n",
    "    p = 1\n",
    "    r = len(A)\n",
    "    _merge_sort(A, p, r)\n",
    "    return A\n",
    "        "
   ]
  },
  {
   "cell_type": "markdown",
   "metadata": {},
   "source": [
    "### QuickSort"
   ]
  },
  {
   "cell_type": "code",
   "execution_count": 9,
   "metadata": {},
   "outputs": [],
   "source": [
    "# Code from L07\n",
    "\n",
    "def partition(array, low, high):\n",
    "    \"\"\"DEFINE PARTITION FOR QUICKSORT\"\"\"\n",
    "    pivot = array[high]\n",
    "    i = (low - 1)\n",
    "    for j in range(low, high):\n",
    "        if array[j] <= pivot:\n",
    "            i = i + 1\n",
    "            array[i], array[j] = array[j], array[i]\n",
    "    array[i + 1], array[high] = array[high], array[i + 1]\n",
    "    return i + 1\n",
    "\n",
    "\n",
    "def quick_sort(array, low=0, high=None):\n",
    "    \"\"\"Sorts a list using the quicksort algorithm.\"\"\"\n",
    "    if high is None:\n",
    "        high = len(array) - 1\n",
    "    if low < high:\n",
    "        part = partition(array, low, high)\n",
    "        quick_sort(array, low, part - 1)\n",
    "        quick_sort(array, part + 1, high)\n",
    "    return array"
   ]
  },
  {
   "cell_type": "markdown",
   "metadata": {},
   "source": [
    "## Combined Algoriothms"
   ]
  },
  {
   "cell_type": "markdown",
   "metadata": {},
   "source": [
    "### MergeSort switching to InsertionSort for small data"
   ]
  },
  {
   "cell_type": "code",
   "execution_count": 10,
   "metadata": {},
   "outputs": [],
   "source": [
    "def combined_sort(A, p=1, n=100):\n",
    "    \"\"\"\n",
    "    Combined algorithm mergesort switching to insertion sort for small data\n",
    "    \n",
    "    Parameters\n",
    "    ----------\n",
    "    \n",
    "    A : array \n",
    "        Numbers to be sorted\n",
    "       \n",
    "    p : int\n",
    "        Start index. Default=1 for sorting the entire array.\n",
    "    \n",
    "    n : int\n",
    "        Threshold value when the function shifts sorting algorithm\n",
    "       \n",
    "    \"\"\"\n",
    "    if len(A) < n:\n",
    "        insertion_sort(A)\n",
    "    else:\n",
    "        _merge_sort(A, p, len(A))\n",
    "    return A"
   ]
  },
  {
   "cell_type": "markdown",
   "metadata": {},
   "source": [
    "## Built-in sorting functions"
   ]
  },
  {
   "cell_type": "markdown",
   "metadata": {},
   "source": [
    "## Python 'sort()'"
   ]
  },
  {
   "cell_type": "code",
   "execution_count": null,
   "metadata": {},
   "outputs": [],
   "source": [
    "sorted(array)"
   ]
  },
  {
   "cell_type": "markdown",
   "metadata": {},
   "source": [
    "## NumPy 'sort()'"
   ]
  },
  {
   "cell_type": "code",
   "execution_count": null,
   "metadata": {},
   "outputs": [],
   "source": [
    "np.sort(array)"
   ]
  },
  {
   "cell_type": "code",
   "execution_count": 17,
   "metadata": {},
   "outputs": [],
   "source": [
    "array=[0, -5, 4,8,2,-55, 1,0,-856,94, 9,78,5,-84,568]\n"
   ]
  },
  {
   "cell_type": "markdown",
   "metadata": {},
   "source": [
    "# Benchmarking"
   ]
  },
  {
   "cell_type": "code",
   "execution_count": 24,
   "metadata": {},
   "outputs": [],
   "source": [
    "from benchmarking import run_benchmark\n",
    "import numpy as np\n",
    "import os"
   ]
  },
  {
   "cell_type": "code",
   "execution_count": 19,
   "metadata": {},
   "outputs": [],
   "source": [
    "sorting_functions = {\n",
    "    'Insertion Sort': insertion_sort,\n",
    "    'Bubble Sort': bubble_sort,\n",
    "    'Merge Sort': merge_sort,\n",
    "    'Quick Sort': quick_sort,\n",
    "    'Combined Sort': combined_sort,\n",
    "    'Python Sorted': sorted,\n",
    "    'NumPy Sort': np.sort,\n",
    "}"
   ]
  },
  {
   "cell_type": "code",
   "execution_count": 21,
   "metadata": {},
   "outputs": [
    {
     "name": "stdout",
     "output_type": "stream",
     "text": [
      "Minimum time(s) on sorted data of size 1: 4.831036000000495e-07\n",
      "Minimum time(s) on sorted data of size 2: 7.370805999998992e-07\n",
      "Minimum time(s) on sorted data of size 4: 1.067094500000394e-06\n",
      "Minimum time(s) on sorted data of size 8: 1.6038809999997738e-06\n",
      "Minimum time(s) on sorted data of size 16: 2.9872950000003585e-06\n",
      "Minimum time(s) on sorted data of size 32: 4.8780600000009145e-06\n",
      "Minimum time(s) on sorted data of size 64: 1.3291234999996959e-05\n",
      "Minimum time(s) on sorted data of size 128: 2.4364454999999906e-05\n",
      "Minimum time(s) on sorted data of size 256: 3.806326000003537e-05\n",
      "Minimum time(s) on sorted data of size 512: 8.629212000000735e-05\n",
      "Minimum time(s) on sorted data of size 1024: 0.00017990880000002106\n",
      "Minimum time(s) on sorted data of size 2048: 0.00038719639999999344\n",
      "Minimum time(s) on reversed data of size 1: 6.22088800000256e-07\n",
      "Minimum time(s) on reversed data of size 2: 9.892024000000674e-07\n",
      "Minimum time(s) on reversed data of size 4: 1.919232000000193e-06\n",
      "Minimum time(s) on reversed data of size 8: 5.748722000002999e-06\n",
      "Minimum time(s) on reversed data of size 16: 1.8004274999998416e-05\n",
      "Minimum time(s) on reversed data of size 32: 7.671894000000065e-05\n",
      "Minimum time(s) on reversed data of size 64: 0.00029470560000004295\n",
      "Minimum time(s) on reversed data of size 128: 0.0010898405000000367\n",
      "Minimum time(s) on reversed data of size 256: 0.004890799999998308\n",
      "Minimum time(s) on reversed data of size 512: 0.017360680000001592\n",
      "Minimum time(s) on reversed data of size 1024: 0.07212104999996427\n",
      "Minimum time(s) on reversed data of size 2048: 0.35361859999989065\n",
      "Minimum time(s) on random data of size 1: 1.1549830000001293e-06\n",
      "Minimum time(s) on random data of size 2: 1.8675740000003317e-06\n",
      "Minimum time(s) on random data of size 4: 4.383026000000427e-06\n",
      "Minimum time(s) on random data of size 8: 1.0497640000005504e-05\n",
      "Minimum time(s) on random data of size 16: 3.100531000000046e-05\n",
      "Minimum time(s) on random data of size 32: 9.599747999995998e-05\n",
      "Minimum time(s) on random data of size 64: 0.0003564625999999862\n",
      "Minimum time(s) on random data of size 128: 0.0015939179999998033\n",
      "Minimum time(s) on random data of size 256: 0.006359057999998185\n",
      "Minimum time(s) on random data of size 512: 0.025982790000011847\n",
      "Minimum time(s) on random data of size 1024: 0.12055014999998548\n",
      "Minimum time(s) on random data of size 2048: 0.4987126000000899\n",
      "\n",
      "Saved to path: ../data/insertion_sort_n2048.pkl\n",
      "Minimum time(s) on sorted data of size 1: 7.23267400000168e-07\n",
      "Minimum time(s) on sorted data of size 2: 6.949174000001221e-07\n",
      "Minimum time(s) on sorted data of size 4: 1.921913000001041e-06\n",
      "Minimum time(s) on sorted data of size 8: 4.619978000000628e-06\n",
      "Minimum time(s) on sorted data of size 16: 1.6431009999996605e-05\n",
      "Minimum time(s) on sorted data of size 32: 5.622002000000066e-05\n",
      "Minimum time(s) on sorted data of size 64: 0.00018174260000000685\n",
      "Minimum time(s) on sorted data of size 128: 0.0007175932000000102\n",
      "Minimum time(s) on sorted data of size 256: 0.002654414999999517\n",
      "Minimum time(s) on sorted data of size 512: 0.012872729999992316\n",
      "Minimum time(s) on sorted data of size 1024: 0.05392319999998563\n",
      "Minimum time(s) on sorted data of size 2048: 0.22641860000021552\n",
      "Minimum time(s) on reversed data of size 1: 6.900534000001244e-07\n",
      "Minimum time(s) on reversed data of size 2: 6.16183799999817e-07\n",
      "Minimum time(s) on reversed data of size 4: 2.9804919999992308e-06\n",
      "Minimum time(s) on reversed data of size 8: 8.930949999999029e-06\n",
      "Minimum time(s) on reversed data of size 16: 2.9694369999992888e-05\n",
      "Minimum time(s) on reversed data of size 32: 0.00010330214999999044\n",
      "Minimum time(s) on reversed data of size 64: 0.000409878800000115\n",
      "Minimum time(s) on reversed data of size 128: 0.0016674519999992298\n",
      "Minimum time(s) on reversed data of size 256: 0.006852315999999518\n",
      "Minimum time(s) on reversed data of size 512: 0.03702756000000136\n",
      "Minimum time(s) on reversed data of size 1024: 0.15858745000002727\n",
      "Minimum time(s) on reversed data of size 2048: 0.5288055999999415\n",
      "Minimum time(s) on random data of size 1: 1.1075930000004064e-06\n",
      "Minimum time(s) on random data of size 2: 1.179667999999765e-06\n",
      "Minimum time(s) on random data of size 4: 6.002456000001075e-06\n",
      "Minimum time(s) on random data of size 8: 1.983122999999978e-05\n",
      "Minimum time(s) on random data of size 16: 7.577980000000935e-05\n",
      "Minimum time(s) on random data of size 32: 0.0002808187000000544\n",
      "Minimum time(s) on random data of size 64: 0.0009841654999991078\n",
      "Minimum time(s) on random data of size 128: 0.004319288000001507\n",
      "Minimum time(s) on random data of size 256: 0.017482954999991307\n",
      "Minimum time(s) on random data of size 512: 0.0681394199999886\n",
      "Minimum time(s) on random data of size 1024: 0.2799520000000939\n",
      "Minimum time(s) on random data of size 2048: 1.2119509999999991\n",
      "\n",
      "Saved to path: ../data/bubble_sort_n2048.pkl\n",
      "Minimum time(s) on sorted data of size 1: 5.415096000001541e-07\n",
      "Minimum time(s) on sorted data of size 2: 3.6096279999992475e-06\n",
      "Minimum time(s) on sorted data of size 4: 1.079052000000047e-05\n",
      "Minimum time(s) on sorted data of size 8: 2.3075589999984915e-05\n",
      "Minimum time(s) on sorted data of size 16: 6.41635800000131e-05\n",
      "Minimum time(s) on sorted data of size 32: 0.00013961489999996958\n",
      "Minimum time(s) on sorted data of size 64: 0.00024526589999982205\n",
      "Minimum time(s) on sorted data of size 128: 0.000593715599999996\n",
      "Minimum time(s) on sorted data of size 256: 0.0012033584999994673\n",
      "Minimum time(s) on sorted data of size 512: 0.0030504229999996826\n",
      "Minimum time(s) on sorted data of size 1024: 0.005715600000003178\n",
      "Minimum time(s) on sorted data of size 2048: 0.01315463500000078\n",
      "Minimum time(s) on reversed data of size 1: 5.835023999998157e-07\n",
      "Minimum time(s) on reversed data of size 2: 4.34978000000001e-06\n",
      "Minimum time(s) on reversed data of size 4: 1.0938639999994848e-05\n",
      "Minimum time(s) on reversed data of size 8: 2.4760440000000017e-05\n",
      "Minimum time(s) on reversed data of size 16: 6.245731999997587e-05\n",
      "Minimum time(s) on reversed data of size 32: 0.0001383951000000252\n",
      "Minimum time(s) on reversed data of size 64: 0.0003065660999998272\n",
      "Minimum time(s) on reversed data of size 128: 0.0006068500000001222\n",
      "Minimum time(s) on reversed data of size 256: 0.0013665094999998927\n",
      "Minimum time(s) on reversed data of size 512: 0.0027657569999996667\n",
      "Minimum time(s) on reversed data of size 1024: 0.005706771999998636\n",
      "Minimum time(s) on reversed data of size 2048: 0.011559849999991911\n",
      "Minimum time(s) on random data of size 1: 1.0949389999996128e-06\n",
      "Minimum time(s) on random data of size 2: 4.5299980000027065e-06\n",
      "Minimum time(s) on random data of size 4: 1.2525830000004135e-05\n",
      "Minimum time(s) on random data of size 8: 3.168300000002091e-05\n",
      "Minimum time(s) on random data of size 16: 6.800432e-05\n",
      "Minimum time(s) on random data of size 32: 0.00015815329999998085\n",
      "Minimum time(s) on random data of size 64: 0.00036429999999973005\n",
      "Minimum time(s) on random data of size 128: 0.0006979815999998208\n",
      "Minimum time(s) on random data of size 256: 0.0014123204999998507\n",
      "Minimum time(s) on random data of size 512: 0.0035566450000010263\n",
      "Minimum time(s) on random data of size 1024: 0.008216512000003603\n",
      "Minimum time(s) on random data of size 2048: 0.017632669999989047\n",
      "\n",
      "Saved to path: ../data/merge_sort_n2048.pkl\n",
      "Minimum time(s) on sorted data of size 1: 5.760850000001483e-07\n",
      "Minimum time(s) on sorted data of size 2: 1.7691694999996343e-06\n",
      "Minimum time(s) on sorted data of size 4: 4.090716000000612e-06\n",
      "Minimum time(s) on sorted data of size 8: 1.2256815000000642e-05\n",
      "Minimum time(s) on sorted data of size 16: 3.4656339999992267e-05\n",
      "Minimum time(s) on sorted data of size 32: 0.00010740499999997155\n",
      "Minimum time(s) on sorted data of size 64: 0.00043729919999987033\n",
      "Minimum time(s) on sorted data of size 128: 0.0014720924999994623\n",
      "Minimum time(s) on sorted data of size 256: 0.00550872199999958\n",
      "Minimum time(s) on sorted data of size 512: 0.02134498000000349\n",
      "Minimum time(s) on sorted data of size 1024: 0.09595984999998564\n",
      "Minimum time(s) on sorted data of size 2048: 0.42773399999987305\n",
      "Minimum time(s) on reversed data of size 1: 5.360186000002614e-07\n",
      "Minimum time(s) on reversed data of size 2: 1.494771000000128e-06\n",
      "Minimum time(s) on reversed data of size 4: 4.879998999999771e-06\n"
     ]
    },
    {
     "name": "stdout",
     "output_type": "stream",
     "text": [
      "Minimum time(s) on reversed data of size 8: 1.2457825000001321e-05\n",
      "Minimum time(s) on reversed data of size 16: 2.5270139999975073e-05\n",
      "Minimum time(s) on reversed data of size 32: 8.981579999999667e-05\n",
      "Minimum time(s) on reversed data of size 64: 0.0002851292000000285\n",
      "Minimum time(s) on reversed data of size 128: 0.0010249510000005556\n",
      "Minimum time(s) on reversed data of size 256: 0.00361633399999846\n",
      "Minimum time(s) on reversed data of size 512: 0.017292535000001406\n",
      "Minimum time(s) on reversed data of size 1024: 0.06482546000002003\n",
      "Minimum time(s) on reversed data of size 2048: 0.27702030000000377\n",
      "Minimum time(s) on random data of size 1: 1.1003424999989875e-06\n",
      "Minimum time(s) on random data of size 2: 3.3600620000015624e-06\n",
      "Minimum time(s) on random data of size 4: 5.1265439999997394e-06\n",
      "Minimum time(s) on random data of size 8: 1.6309625000008056e-05\n",
      "Minimum time(s) on random data of size 16: 3.854151999998976e-05\n",
      "Minimum time(s) on random data of size 32: 8.00779600000169e-05\n",
      "Minimum time(s) on random data of size 64: 0.0001667363999999907\n",
      "Minimum time(s) on random data of size 128: 0.0005014304000001175\n",
      "Minimum time(s) on random data of size 256: 0.0009381319999999959\n",
      "Minimum time(s) on random data of size 512: 0.002456197000001339\n",
      "Minimum time(s) on random data of size 1024: 0.006084635999995953\n",
      "Minimum time(s) on random data of size 2048: 0.014461825000000771\n",
      "\n",
      "Saved to path: ../data/quick_sort_n2048.pkl\n",
      "Minimum time(s) on sorted data of size 1: 9.452095999999984e-07\n",
      "Minimum time(s) on sorted data of size 2: 1.2575734999995801e-06\n",
      "Minimum time(s) on sorted data of size 4: 1.5987884999992729e-06\n",
      "Minimum time(s) on sorted data of size 8: 2.19268399999919e-06\n",
      "Minimum time(s) on sorted data of size 16: 3.870859999997265e-06\n",
      "Minimum time(s) on sorted data of size 32: 6.581504000000677e-06\n",
      "Minimum time(s) on sorted data of size 64: 1.30519050000089e-05\n",
      "Minimum time(s) on sorted data of size 128: 0.000555722600000081\n",
      "Minimum time(s) on sorted data of size 256: 0.0011837600000001202\n",
      "Minimum time(s) on sorted data of size 512: 0.0030034699999987426\n",
      "Minimum time(s) on sorted data of size 1024: 0.006538875999999618\n",
      "Minimum time(s) on sorted data of size 2048: 0.016693035000002965\n",
      "Minimum time(s) on reversed data of size 1: 8.586339999999382e-07\n",
      "Minimum time(s) on reversed data of size 2: 1.224319000000378e-06\n",
      "Minimum time(s) on reversed data of size 4: 2.3421060000009675e-06\n",
      "Minimum time(s) on reversed data of size 8: 6.5159759999960445e-06\n",
      "Minimum time(s) on reversed data of size 16: 2.0414800000003198e-05\n",
      "Minimum time(s) on reversed data of size 32: 7.88248399999702e-05\n",
      "Minimum time(s) on reversed data of size 64: 0.00029262900000003354\n",
      "Minimum time(s) on reversed data of size 128: 0.0005701245999998718\n",
      "Minimum time(s) on reversed data of size 256: 0.0011739839999995638\n",
      "Minimum time(s) on reversed data of size 512: 0.003356731999999738\n",
      "Minimum time(s) on reversed data of size 1024: 0.005901890000000094\n",
      "Minimum time(s) on reversed data of size 2048: 0.014290655000002062\n",
      "Minimum time(s) on random data of size 1: 1.5134264999994685e-06\n",
      "Minimum time(s) on random data of size 2: 1.8944499999997788e-06\n",
      "Minimum time(s) on random data of size 4: 4.8171199999978855e-06\n",
      "Minimum time(s) on random data of size 8: 1.2218895000000885e-05\n",
      "Minimum time(s) on random data of size 16: 3.758693999998286e-05\n",
      "Minimum time(s) on random data of size 32: 0.00011642770000003111\n",
      "Minimum time(s) on random data of size 64: 0.0004672151999998277\n",
      "Minimum time(s) on random data of size 128: 0.0007177157999999508\n",
      "Minimum time(s) on random data of size 256: 0.0015756139999996322\n",
      "Minimum time(s) on random data of size 512: 0.0031689520000008995\n",
      "Minimum time(s) on random data of size 1024: 0.008922262000000956\n",
      "Minimum time(s) on random data of size 2048: 0.017966290000003937\n",
      "\n",
      "Saved to path: ../data/combined_sort_n2048.pkl\n",
      "Minimum time(s) on sorted data of size 1: 4.730341999998018e-07\n",
      "Minimum time(s) on sorted data of size 2: 5.709317999999257e-07\n",
      "Minimum time(s) on sorted data of size 4: 5.88106599999719e-07\n",
      "Minimum time(s) on sorted data of size 8: 9.155433999999331e-07\n",
      "Minimum time(s) on sorted data of size 16: 1.110014500000034e-06\n",
      "Minimum time(s) on sorted data of size 32: 1.8024849999983416e-06\n",
      "Minimum time(s) on sorted data of size 64: 2.188203999999132e-06\n",
      "Minimum time(s) on sorted data of size 128: 4.13977000000159e-06\n",
      "Minimum time(s) on sorted data of size 256: 7.199651999999333e-06\n",
      "Minimum time(s) on sorted data of size 512: 1.3737259999993512e-05\n",
      "Minimum time(s) on sorted data of size 1024: 2.854973000000882e-05\n",
      "Minimum time(s) on sorted data of size 2048: 5.2639440000029936e-05\n",
      "Minimum time(s) on reversed data of size 1: 4.687555999998949e-07\n",
      "Minimum time(s) on reversed data of size 2: 5.263829999998961e-07\n",
      "Minimum time(s) on reversed data of size 4: 5.948450000000776e-07\n",
      "Minimum time(s) on reversed data of size 8: 7.802190000006704e-07\n",
      "Minimum time(s) on reversed data of size 16: 8.792495000000145e-07\n",
      "Minimum time(s) on reversed data of size 32: 1.6381249999994906e-06\n",
      "Minimum time(s) on reversed data of size 64: 2.6622139999994944e-06\n",
      "Minimum time(s) on reversed data of size 128: 4.345441999998911e-06\n",
      "Minimum time(s) on reversed data of size 256: 7.5365020000026565e-06\n",
      "Minimum time(s) on reversed data of size 512: 1.3730524999994032e-05\n",
      "Minimum time(s) on reversed data of size 1024: 2.9969940000000863e-05\n",
      "Minimum time(s) on reversed data of size 2048: 5.7448660000000015e-05\n",
      "Minimum time(s) on random data of size 1: 1.864170000001195e-06\n",
      "Minimum time(s) on random data of size 2: 2.210288000001128e-06\n",
      "Minimum time(s) on random data of size 4: 2.4645620000001147e-06\n",
      "Minimum time(s) on random data of size 8: 2.893615000000409e-06\n",
      "Minimum time(s) on random data of size 16: 4.351741999998922e-06\n",
      "Minimum time(s) on random data of size 32: 8.22211000000152e-06\n",
      "Minimum time(s) on random data of size 64: 1.6697914999997465e-05\n",
      "Minimum time(s) on random data of size 128: 3.224846000002799e-05\n",
      "Minimum time(s) on random data of size 256: 6.709625999997115e-05\n",
      "Minimum time(s) on random data of size 512: 0.00017422175000001517\n",
      "Minimum time(s) on random data of size 1024: 0.0003345091000001048\n",
      "Minimum time(s) on random data of size 2048: 0.0007360726000001705\n",
      "\n",
      "Saved to path: ../data/sorted_n2048.pkl\n",
      "Minimum time(s) on sorted data of size 1: 3.939798000001246e-06\n",
      "Minimum time(s) on sorted data of size 2: 4.529608000002554e-06\n",
      "Minimum time(s) on sorted data of size 4: 4.702836000001298e-06\n",
      "Minimum time(s) on sorted data of size 8: 4.9112420000028574e-06\n",
      "Minimum time(s) on sorted data of size 16: 5.262330000000474e-06\n",
      "Minimum time(s) on sorted data of size 32: 6.62758599999961e-06\n",
      "Minimum time(s) on sorted data of size 64: 8.661938000000191e-06\n",
      "Minimum time(s) on sorted data of size 128: 1.562523999999712e-05\n",
      "Minimum time(s) on sorted data of size 256: 2.7328910000005634e-05\n",
      "Minimum time(s) on sorted data of size 512: 4.162943999999698e-05\n",
      "Minimum time(s) on sorted data of size 1024: 9.484699999998156e-05\n",
      "Minimum time(s) on sorted data of size 2048: 0.00016550500000005286\n",
      "Minimum time(s) on reversed data of size 1: 3.7256860000002234e-06\n",
      "Minimum time(s) on reversed data of size 2: 3.4803980000015146e-06\n",
      "Minimum time(s) on reversed data of size 4: 4.117260000000442e-06\n",
      "Minimum time(s) on reversed data of size 8: 4.706968000000416e-06\n",
      "Minimum time(s) on reversed data of size 16: 4.7386599999981626e-06\n",
      "Minimum time(s) on reversed data of size 32: 6.520998000000873e-06\n",
      "Minimum time(s) on reversed data of size 64: 9.78397500000483e-06\n",
      "Minimum time(s) on reversed data of size 128: 1.4520349999997961e-05\n",
      "Minimum time(s) on reversed data of size 256: 2.828620000000228e-05\n",
      "Minimum time(s) on reversed data of size 512: 4.8251460000028604e-05\n",
      "Minimum time(s) on reversed data of size 1024: 8.831115999996655e-05\n",
      "Minimum time(s) on reversed data of size 2048: 0.0001684437500000513\n",
      "Minimum time(s) on random data of size 1: 2.7131660000009106e-06\n",
      "Minimum time(s) on random data of size 2: 3.4567059999994855e-06\n",
      "Minimum time(s) on random data of size 4: 3.2396319999998013e-06\n",
      "Minimum time(s) on random data of size 8: 3.2559280000009495e-06\n",
      "Minimum time(s) on random data of size 16: 3.2608619999996334e-06\n"
     ]
    },
    {
     "name": "stdout",
     "output_type": "stream",
     "text": [
      "Minimum time(s) on random data of size 32: 3.419410000001335e-06\n",
      "Minimum time(s) on random data of size 64: 3.9539059999992784e-06\n",
      "Minimum time(s) on random data of size 128: 4.212247999998908e-06\n",
      "Minimum time(s) on random data of size 256: 5.3255440000020825e-06\n",
      "Minimum time(s) on random data of size 512: 8.955264999997325e-06\n",
      "Minimum time(s) on random data of size 1024: 3.392911000000822e-05\n",
      "Minimum time(s) on random data of size 2048: 9.678782000000866e-05\n",
      "\n",
      "Saved to path: ../data/sort_n2048.pkl\n"
     ]
    }
   ],
   "source": [
    "# for title, sort in sorting_functions.items():\n",
    "#     run_benchmark(sort, input_base=2, input_power=11, seed=12)"
   ]
  },
  {
   "cell_type": "code",
   "execution_count": 26,
   "metadata": {},
   "outputs": [],
   "source": []
  },
  {
   "cell_type": "code",
   "execution_count": 32,
   "metadata": {},
   "outputs": [
    {
     "data": {
      "text/plain": [
       "['bubble_sort_n2048.pkl',\n",
       " 'combined_sort_n2048.pkl',\n",
       " 'insertion_sort_n2048.pkl',\n",
       " 'merge_sort_n2048.pkl',\n",
       " 'quick_sort_n2048.pkl',\n",
       " 'sorted_n2048.pkl',\n",
       " 'sort_n2048.pkl']"
      ]
     },
     "execution_count": 32,
     "metadata": {},
     "output_type": "execute_result"
    }
   ],
   "source": []
  },
  {
   "cell_type": "code",
   "execution_count": null,
   "metadata": {},
   "outputs": [],
   "source": []
  }
 ],
 "metadata": {
  "hide_input": false,
  "kernelspec": {
   "display_name": "Python 3",
   "language": "python",
   "name": "python3"
  },
  "language_info": {
   "codemirror_mode": {
    "name": "ipython",
    "version": 3
   },
   "file_extension": ".py",
   "mimetype": "text/x-python",
   "name": "python",
   "nbconvert_exporter": "python",
   "pygments_lexer": "ipython3",
   "version": "3.7.9"
  },
  "toc": {
   "base_numbering": 1,
   "nav_menu": {},
   "number_sections": true,
   "sideBar": true,
   "skip_h1_title": false,
   "title_cell": "Table of Contents",
   "title_sidebar": "Contents",
   "toc_cell": false,
   "toc_position": {},
   "toc_section_display": true,
   "toc_window_display": false
  },
  "varInspector": {
   "cols": {
    "lenName": 16,
    "lenType": 16,
    "lenVar": 40
   },
   "kernels_config": {
    "python": {
     "delete_cmd_postfix": "",
     "delete_cmd_prefix": "del ",
     "library": "var_list.py",
     "varRefreshCmd": "print(var_dic_list())"
    },
    "r": {
     "delete_cmd_postfix": ") ",
     "delete_cmd_prefix": "rm(",
     "library": "var_list.r",
     "varRefreshCmd": "cat(var_dic_list()) "
    }
   },
   "types_to_exclude": [
    "module",
    "function",
    "builtin_function_or_method",
    "instance",
    "_Feature"
   ],
   "window_display": false
  }
 },
 "nbformat": 4,
 "nbformat_minor": 4
}
