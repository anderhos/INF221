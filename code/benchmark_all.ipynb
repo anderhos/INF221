{
 "cells": [
  {
   "cell_type": "markdown",
   "metadata": {},
   "source": [
    "# Alogrithms"
   ]
  },
  {
   "cell_type": "markdown",
   "metadata": {},
   "source": [
    "## Quadratic Algorithms"
   ]
  },
  {
   "cell_type": "markdown",
   "metadata": {},
   "source": [
    "### InsertionSort"
   ]
  },
  {
   "cell_type": "code",
   "execution_count": 1,
   "metadata": {},
   "outputs": [],
   "source": [
    "# Code from L02\n",
    "\n",
    "def insertion_sort(A):\n",
    "    for j in range(1, len(A)):\n",
    "        key = A[j]\n",
    "        i = j - 1\n",
    "        while i >= 0 and A[i] > key:\n",
    "            A[i + 1] = A[i]\n",
    "            i = i - 1\n",
    "        A[i + 1] = key\n",
    "    return A"
   ]
  },
  {
   "cell_type": "markdown",
   "metadata": {},
   "source": [
    "### BubbleSort"
   ]
  },
  {
   "cell_type": "code",
   "execution_count": 2,
   "metadata": {},
   "outputs": [],
   "source": [
    "def bubble_sort(array):\n",
    "    for j in range(0, len(array)-2):\n",
    "        for k in range(len(array)-1, j, -1):\n",
    "            if array[k] < array[k-1]:\n",
    "                array[k], array[k-1] = array[k-1], array[k]\n",
    "    return array"
   ]
  },
  {
   "cell_type": "markdown",
   "metadata": {},
   "source": [
    "## Sub-quadratic Algorithms"
   ]
  },
  {
   "cell_type": "markdown",
   "metadata": {},
   "source": [
    "### MergeSort"
   ]
  },
  {
   "cell_type": "code",
   "execution_count": 3,
   "metadata": {},
   "outputs": [],
   "source": [
    "# Code from L03\n",
    "\n",
    "def merge(A, p, q, r):    \n",
    "    n1 = q - p + 1\n",
    "    n2 = r - q\n",
    "    \n",
    "    L = [0] * n1\n",
    "    R = [0] * n2\n",
    "\n",
    "    for i in list(range(n1)):\n",
    "        L[i] = A[p + i - 1]\n",
    "    \n",
    "    for j in list(range(n2)):\n",
    "        R[j] = A[q + j]\n",
    "    L.append(float('inf'))\n",
    "    R.append(float('inf'))\n",
    "\n",
    "    i = 1 - 1     # Subtract 1 to adjust to Python indexing\n",
    "    j = 1 - 1     # Subtract 1 to adjust to Python indexing\n",
    "    \n",
    "    for k in list(range(p - 1, r)):     # Subtract 1 from q to adjust to Python range object\n",
    "        if L[i] <= R[j]:\n",
    "            A[k] = L[i]\n",
    "            i = i + 1\n",
    "        else:\n",
    "            A[k] = R[j]\n",
    "            j = j + 1\n",
    "    return A"
   ]
  },
  {
   "cell_type": "code",
   "execution_count": 4,
   "metadata": {},
   "outputs": [],
   "source": [
    "# See page 34 book for algorithm\n",
    "def _merge_sort(A, p, r):\n",
    "    if p < r:\n",
    "        q = (p + r) // 2\n",
    "        _merge_sort(A, p, q)\n",
    "        _merge_sort(A, q + 1, r)\n",
    "        merge(A, p, q, r)\n",
    "    return A"
   ]
  },
  {
   "cell_type": "code",
   "execution_count": 5,
   "metadata": {},
   "outputs": [],
   "source": [
    "def merge_sort(A):\n",
    "    \"\"\"\n",
    "    Algorithm must take only one input parameter to \n",
    "    work in benchmarking with the Timer below\n",
    "    \n",
    "    Parameters\n",
    "    ----------\n",
    "    A : array\n",
    "        Numbers to be sorted\n",
    "    \"\"\"\n",
    "    p = 1\n",
    "    r = len(A)\n",
    "    _merge_sort(A, p, r)\n",
    "    return A\n",
    "        "
   ]
  },
  {
   "cell_type": "markdown",
   "metadata": {},
   "source": [
    "### QuickSort"
   ]
  },
  {
   "cell_type": "code",
   "execution_count": 6,
   "metadata": {},
   "outputs": [],
   "source": [
    "# Code from L07\n",
    "\n",
    "def partition(array, low, high):\n",
    "    \"\"\"DEFINE PARTITION FOR QUICKSORT\"\"\"\n",
    "    pivot = array[high]\n",
    "    i = (low - 1)\n",
    "    for j in range(low, high):\n",
    "        if array[j] <= pivot:\n",
    "            i = i + 1\n",
    "            array[i], array[j] = array[j], array[i]\n",
    "    array[i + 1], array[high] = array[high], array[i + 1]\n",
    "    return i + 1\n",
    "\n",
    "\n",
    "def quick_sort(array, low=0, high=None):\n",
    "    \"\"\"Sorts a list using the quicksort algorithm.\"\"\"\n",
    "    if high is None:\n",
    "        high = len(array) - 1\n",
    "    if low < high:\n",
    "        part = partition(array, low, high)\n",
    "        quick_sort(array, low, part - 1)\n",
    "        quick_sort(array, part + 1, high)\n",
    "    return array"
   ]
  },
  {
   "cell_type": "markdown",
   "metadata": {},
   "source": [
    "## Combined Algoriothms"
   ]
  },
  {
   "cell_type": "markdown",
   "metadata": {},
   "source": [
    "### MergeSort switching to InsertionSort for small data"
   ]
  },
  {
   "cell_type": "code",
   "execution_count": 7,
   "metadata": {},
   "outputs": [],
   "source": [
    "def combined_sort(A, p=1, n=100):\n",
    "    \"\"\"\n",
    "    Combined algorithm mergesort switching to insertion sort for small data\n",
    "    \n",
    "    Parameters\n",
    "    ----------\n",
    "    \n",
    "    A : array \n",
    "        Numbers to be sorted\n",
    "       \n",
    "    p : int\n",
    "        Start index. Default=1 for sorting the entire array.\n",
    "    \n",
    "    n : int\n",
    "        Threshold value when the function shifts sorting algorithm\n",
    "       \n",
    "    \"\"\"\n",
    "    if len(A) < n:\n",
    "        insertion_sort(A)\n",
    "    else:\n",
    "        _merge_sort(A, p, len(A))\n",
    "    return A"
   ]
  },
  {
   "cell_type": "markdown",
   "metadata": {},
   "source": [
    "## Built-in sorting functions"
   ]
  },
  {
   "cell_type": "markdown",
   "metadata": {},
   "source": [
    "## Python 'sorted()'"
   ]
  },
  {
   "cell_type": "code",
   "execution_count": 8,
   "metadata": {},
   "outputs": [
    {
     "data": {
      "text/plain": [
       "<function sorted(iterable, /, *, key=None, reverse=False)>"
      ]
     },
     "execution_count": 8,
     "metadata": {},
     "output_type": "execute_result"
    }
   ],
   "source": [
    "sorted"
   ]
  },
  {
   "cell_type": "markdown",
   "metadata": {},
   "source": [
    "## NumPy 'sort()'"
   ]
  },
  {
   "cell_type": "code",
   "execution_count": 9,
   "metadata": {},
   "outputs": [
    {
     "data": {
      "text/plain": [
       "<function numpy.sort(a, axis=-1, kind=None, order=None)>"
      ]
     },
     "execution_count": 9,
     "metadata": {},
     "output_type": "execute_result"
    }
   ],
   "source": [
    "import numpy as np\n",
    "np.sort"
   ]
  },
  {
   "cell_type": "code",
   "execution_count": 10,
   "metadata": {},
   "outputs": [],
   "source": [
    "array=[0, -5, 4,8,2,-55, 1,0,-856,94, 9,78,5,-84,568]\n"
   ]
  },
  {
   "cell_type": "markdown",
   "metadata": {},
   "source": [
    "# Benchmarking"
   ]
  },
  {
   "cell_type": "code",
   "execution_count": 11,
   "metadata": {},
   "outputs": [],
   "source": [
    "import numpy as np\n",
    "import pandas as pd\n",
    "import timeit\n",
    "import copy\n",
    "import os.path"
   ]
  },
  {
   "cell_type": "code",
   "execution_count": 12,
   "metadata": {},
   "outputs": [],
   "source": [
    "def run_benchmark(sort_func,\n",
    "                  input_base,\n",
    "                  input_power,\n",
    "                  seed=None,\n",
    "                  save=True,\n",
    "                  num_runs=5):\n",
    "    \"\"\"\n",
    "    Run benchmark with given parameters\n",
    "\n",
    "    Parameters\n",
    "    ----------------------------------------------------------------------\n",
    "    sort_func: function\n",
    "               Algorithm to used for sorting.\n",
    "    input_power: int\n",
    "                 The power of the data size\n",
    "    seed: int, optional\n",
    "    save: bool, optional\n",
    "          Saving results to file. Default is True.\n",
    "    input_base: int, optional\n",
    "                Raise this number to input_power to determine data size\n",
    "    num_runs: int, optional\n",
    "              Number of runs at each test case\n",
    "    ----------------------------------------------------------------------\n",
    "    \"\"\"\n",
    "\n",
    "    input_size = input_base**input_power\n",
    "    # Create data frame for storing results\n",
    "    results = pd.DataFrame(columns=[\n",
    "        'input order', 'input size', 'run number', 'sorting algorithm', 'time'\n",
    "    ])\n",
    "    for order in ['sorted', 'reversed', 'random']:\n",
    "        for p in range(input_power + 1):\n",
    "\n",
    "            quicksort_recurrsion_limit = sort_func == quick_sort and (\n",
    "                order == 'sorted'\n",
    "                or order == 'reversed') and ((input_base == 10 and p > 3) or\n",
    "                                             (input_base == 2 and p > 11))\n",
    "            print(sort_func, order, input_base, p, num_runs)\n",
    "\n",
    "            if not quicksort_recurrsion_limit:\n",
    "\n",
    "                # Generate random data\n",
    "                rng = np.random.default_rng(seed)\n",
    "                test_data = rng.uniform(size=input_base**p)\n",
    "\n",
    "                # Presorting\n",
    "                if order == 'sorted':\n",
    "                    test_data = sorted(test_data)\n",
    "\n",
    "                elif order == 'reversed':\n",
    "                    test_data = list(reversed(sorted(test_data)))\n",
    "\n",
    "                # Timer function\n",
    "                clock = timeit.Timer(stmt='sort_func(copy(data))',\n",
    "                                     globals={\n",
    "                                         'sort_func': sort_func,\n",
    "                                         'data': test_data,\n",
    "                                         'copy': copy.copy\n",
    "                                     })\n",
    "                n_ar, t_ar = clock.autorange()\n",
    "                t = clock.repeat(repeat=7, number=n_ar)\n",
    "\n",
    "                # Print out average time over the number of runs for each data size\n",
    "                print(\n",
    "                    f\"Minimum time(s) on {order} data of size \"\n",
    "                    f\"{input_base**p}:\",\n",
    "                    np.min(t) / n_ar)\n",
    "\n",
    "                for run_number in range(num_runs):\n",
    "                    results = \\\n",
    "                        results.append(\n",
    "                            {'input order': order,\n",
    "                             'input size': input_base**p,\n",
    "                             'run number': run_number + 1,\n",
    "                             'sorting algorithm': f'{sort_func.__name__}',\n",
    "                             'time': t[run_number] / n_ar},\n",
    "                            ignore_index=True)\n",
    "        if save:\n",
    "            # Save pickled data frame to file in data directory\n",
    "            directory = '../data/'\n",
    "            filename = '{0}_n{1}^{2}.pkl'.format(sort_func.__name__, input_base, input_power)\n",
    "            file_path = os.path.join(directory, filename)\n",
    "            if not os.path.isdir(directory):\n",
    "                os.mkdir(directory)\n",
    "            results.to_pickle(file_path)\n",
    "            print()\n",
    "            print(f'Saved to path: {file_path}')"
   ]
  },
  {
   "cell_type": "code",
   "execution_count": 13,
   "metadata": {},
   "outputs": [],
   "source": [
    "import numpy as np\n",
    "import os"
   ]
  },
  {
   "cell_type": "code",
   "execution_count": 14,
   "metadata": {
    "run_control": {
     "marked": false
    }
   },
   "outputs": [],
   "source": [
    "sorting_functions = {\n",
    "    'Python Sorted': sorted,\n",
    "    'NumPy Sort': np.sort,\n",
    "    'Quick Sort': quick_sort,\n",
    "    'Combined Sort': combined_sort,\n",
    "    'Merge Sort': merge_sort,\n",
    "    'Insertion Sort': insertion_sort,\n",
    "    'Bubble Sort': bubble_sort,\n",
    "}"
   ]
  },
  {
   "cell_type": "code",
   "execution_count": null,
   "metadata": {
    "scrolled": true
   },
   "outputs": [
    {
     "name": "stdout",
     "output_type": "stream",
     "text": [
      "<built-in function sorted> sorted 10 0 5\n",
      "Minimum time(s) on sorted data of size 1: 3.4564940000000013e-07\n",
      "<built-in function sorted> sorted 10 1 5\n",
      "Minimum time(s) on sorted data of size 10: 6.203912000000003e-07\n",
      "<built-in function sorted> sorted 10 2 5\n",
      "Minimum time(s) on sorted data of size 100: 2.460483e-06\n",
      "<built-in function sorted> sorted 10 3 5\n",
      "Minimum time(s) on sorted data of size 1000: 2.135763999999991e-05\n",
      "<built-in function sorted> sorted 10 4 5\n",
      "Minimum time(s) on sorted data of size 10000: 0.00024107590000000024\n",
      "<built-in function sorted> sorted 10 5 5\n",
      "Minimum time(s) on sorted data of size 100000: 0.003147404999999992\n",
      "\n",
      "Saved to path: ../data/sorted_n10^5.pkl\n",
      "<built-in function sorted> reversed 10 0 5\n",
      "Minimum time(s) on reversed data of size 1: 4.0437839999999883e-07\n",
      "<built-in function sorted> reversed 10 1 5\n",
      "Minimum time(s) on reversed data of size 10: 6.784579999999991e-07\n",
      "<built-in function sorted> reversed 10 2 5\n",
      "Minimum time(s) on reversed data of size 100: 2.6499510000000014e-06\n",
      "<built-in function sorted> reversed 10 3 5\n",
      "Minimum time(s) on reversed data of size 1000: 2.5143699999999923e-05\n",
      "<built-in function sorted> reversed 10 4 5\n",
      "Minimum time(s) on reversed data of size 10000: 0.0002373972000000002\n",
      "<built-in function sorted> reversed 10 5 5\n",
      "Minimum time(s) on reversed data of size 100000: 0.002842039000000014\n",
      "\n",
      "Saved to path: ../data/sorted_n10^5.pkl\n",
      "<built-in function sorted> random 10 0 5\n",
      "Minimum time(s) on random data of size 1: 1.6796869999999941e-06\n",
      "<built-in function sorted> random 10 1 5\n",
      "Minimum time(s) on random data of size 10: 3.100122999999968e-06\n",
      "<built-in function sorted> random 10 2 5\n",
      "Minimum time(s) on random data of size 100: 2.3479609999999697e-05\n",
      "<built-in function sorted> random 10 3 5\n",
      "Minimum time(s) on random data of size 1000: 0.0002967821000000015\n",
      "<built-in function sorted> random 10 4 5\n",
      "Minimum time(s) on random data of size 10000: 0.0036746060000000112\n",
      "<built-in function sorted> random 10 5 5\n",
      "Minimum time(s) on random data of size 100000: 0.04993079999999992\n",
      "\n",
      "Saved to path: ../data/sorted_n10^5.pkl\n",
      "<function sort at 0x000001FEBFEF8550> sorted 10 0 5\n",
      "Minimum time(s) on sorted data of size 1: 3.106492000000003e-06\n",
      "<function sort at 0x000001FEBFEF8550> sorted 10 1 5\n",
      "Minimum time(s) on sorted data of size 10: 4.899522000000047e-06\n",
      "<function sort at 0x000001FEBFEF8550> sorted 10 2 5\n",
      "Minimum time(s) on sorted data of size 100: 1.2838574999999964e-05\n",
      "<function sort at 0x000001FEBFEF8550> sorted 10 3 5\n",
      "Minimum time(s) on sorted data of size 1000: 9.473416000000015e-05\n",
      "<function sort at 0x000001FEBFEF8550> sorted 10 4 5\n",
      "Minimum time(s) on sorted data of size 10000: 0.0008380566000000016\n",
      "<function sort at 0x000001FEBFEF8550> sorted 10 5 5\n",
      "Minimum time(s) on sorted data of size 100000: 0.009850845999999934\n",
      "\n",
      "Saved to path: ../data/sort_n10^5.pkl\n",
      "<function sort at 0x000001FEBFEF8550> reversed 10 0 5\n",
      "Minimum time(s) on reversed data of size 1: 3.5172310000000095e-06\n",
      "<function sort at 0x000001FEBFEF8550> reversed 10 1 5\n",
      "Minimum time(s) on reversed data of size 10: 4.918120000000101e-06\n",
      "<function sort at 0x000001FEBFEF8550> reversed 10 2 5\n",
      "Minimum time(s) on reversed data of size 100: 1.2221154999999584e-05\n",
      "<function sort at 0x000001FEBFEF8550> reversed 10 3 5\n",
      "Minimum time(s) on reversed data of size 1000: 9.122495000000441e-05\n",
      "<function sort at 0x000001FEBFEF8550> reversed 10 4 5\n",
      "Minimum time(s) on reversed data of size 10000: 0.0008818794999999824\n",
      "<function sort at 0x000001FEBFEF8550> reversed 10 5 5\n",
      "Minimum time(s) on reversed data of size 100000: 0.010164084999999545\n",
      "\n",
      "Saved to path: ../data/sort_n10^5.pkl\n",
      "<function sort at 0x000001FEBFEF8550> random 10 0 5\n",
      "Minimum time(s) on random data of size 1: 2.8720810000000086e-06\n",
      "<function sort at 0x000001FEBFEF8550> random 10 1 5\n",
      "Minimum time(s) on random data of size 10: 2.997512000000029e-06\n",
      "<function sort at 0x000001FEBFEF8550> random 10 2 5\n",
      "Minimum time(s) on random data of size 100: 3.5545159999999496e-06\n",
      "<function sort at 0x000001FEBFEF8550> random 10 3 5\n",
      "Minimum time(s) on random data of size 1000: 2.704138999999941e-05\n",
      "<function sort at 0x000001FEBFEF8550> random 10 4 5\n",
      "Minimum time(s) on random data of size 10000: 0.0004742874000000086\n",
      "<function sort at 0x000001FEBFEF8550> random 10 5 5\n",
      "Minimum time(s) on random data of size 100000: 0.0057749299999997564\n",
      "\n",
      "Saved to path: ../data/sort_n10^5.pkl\n",
      "<function quick_sort at 0x000001FEC0258280> sorted 10 0 5\n",
      "Minimum time(s) on sorted data of size 1: 4.900986000000102e-07\n",
      "<function quick_sort at 0x000001FEC0258280> sorted 10 1 5\n",
      "Minimum time(s) on sorted data of size 10: 1.9674944999999865e-05\n",
      "<function quick_sort at 0x000001FEC0258280> sorted 10 2 5\n",
      "Minimum time(s) on sorted data of size 100: 0.0011596010000000233\n",
      "<function quick_sort at 0x000001FEC0258280> sorted 10 3 5\n",
      "Minimum time(s) on sorted data of size 1000: 0.13181000000000154\n",
      "<function quick_sort at 0x000001FEC0258280> sorted 10 4 5\n",
      "<function quick_sort at 0x000001FEC0258280> sorted 10 5 5\n",
      "\n",
      "Saved to path: ../data/quick_sort_n10^5.pkl\n",
      "<function quick_sort at 0x000001FEC0258280> reversed 10 0 5\n",
      "Minimum time(s) on reversed data of size 1: 5.513645999999994e-07\n",
      "<function quick_sort at 0x000001FEC0258280> reversed 10 1 5\n",
      "Minimum time(s) on reversed data of size 10: 1.4263745000000227e-05\n",
      "<function quick_sort at 0x000001FEC0258280> reversed 10 2 5\n",
      "Minimum time(s) on reversed data of size 100: 0.0008085629999999924\n",
      "<function quick_sort at 0x000001FEC0258280> reversed 10 3 5\n",
      "Minimum time(s) on reversed data of size 1000: 0.08310287999999844\n",
      "<function quick_sort at 0x000001FEC0258280> reversed 10 4 5\n",
      "<function quick_sort at 0x000001FEC0258280> reversed 10 5 5\n",
      "\n",
      "Saved to path: ../data/quick_sort_n10^5.pkl\n",
      "<function quick_sort at 0x000001FEC0258280> random 10 0 5\n",
      "Minimum time(s) on random data of size 1: 1.1736616000000027e-06\n",
      "<function quick_sort at 0x000001FEC0258280> random 10 1 5\n",
      "Minimum time(s) on random data of size 10: 2.1505110000001083e-05\n",
      "<function quick_sort at 0x000001FEC0258280> random 10 2 5\n",
      "Minimum time(s) on random data of size 100: 0.00042809490000001913\n",
      "<function quick_sort at 0x000001FEC0258280> random 10 3 5\n",
      "Minimum time(s) on random data of size 1000: 0.006395039999999881\n",
      "<function quick_sort at 0x000001FEC0258280> random 10 4 5\n",
      "Minimum time(s) on random data of size 10000: 0.0798519199999987\n",
      "<function quick_sort at 0x000001FEC0258280> random 10 5 5\n",
      "Minimum time(s) on random data of size 100000: 0.9907960000000173\n",
      "\n",
      "Saved to path: ../data/quick_sort_n10^5.pkl\n",
      "<function combined_sort at 0x000001FEC02585E0> sorted 10 0 5\n",
      "Minimum time(s) on sorted data of size 1: 7.657504000000017e-07\n",
      "<function combined_sort at 0x000001FEC02585E0> sorted 10 1 5\n",
      "Minimum time(s) on sorted data of size 10: 2.6497559999998544e-06\n",
      "<function combined_sort at 0x000001FEC02585E0> sorted 10 2 5\n",
      "Minimum time(s) on sorted data of size 100: 0.00047284819999998716\n",
      "<function combined_sort at 0x000001FEC02585E0> sorted 10 3 5\n",
      "Minimum time(s) on sorted data of size 1000: 0.005586898000000246\n",
      "<function combined_sort at 0x000001FEC02585E0> sorted 10 4 5\n",
      "Minimum time(s) on sorted data of size 10000: 0.06851145000000258\n",
      "<function combined_sort at 0x000001FEC02585E0> sorted 10 5 5\n",
      "Minimum time(s) on sorted data of size 100000: 0.8749320999999952\n",
      "\n",
      "Saved to path: ../data/combined_sort_n10^5.pkl\n",
      "<function combined_sort at 0x000001FEC02585E0> reversed 10 0 5\n",
      "Minimum time(s) on reversed data of size 1: 7.54095800000016e-07\n",
      "<function combined_sort at 0x000001FEC02585E0> reversed 10 1 5\n",
      "Minimum time(s) on reversed data of size 10: 1.0842655000000434e-05\n",
      "<function combined_sort at 0x000001FEC02585E0> reversed 10 2 5\n",
      "Minimum time(s) on reversed data of size 100: 0.0004378811999999925\n",
      "<function combined_sort at 0x000001FEC02585E0> reversed 10 3 5\n",
      "Minimum time(s) on reversed data of size 1000: 0.005742272000000525\n",
      "<function combined_sort at 0x000001FEC02585E0> reversed 10 4 5\n",
      "Minimum time(s) on reversed data of size 10000: 0.07734899999999811\n",
      "<function combined_sort at 0x000001FEC02585E0> reversed 10 5 5\n",
      "Minimum time(s) on reversed data of size 100000: 0.9541229000000158\n",
      "\n",
      "Saved to path: ../data/combined_sort_n10^5.pkl\n",
      "<function combined_sort at 0x000001FEC02585E0> random 10 0 5\n",
      "Minimum time(s) on random data of size 1: 1.3662874999999986e-06\n",
      "<function combined_sort at 0x000001FEC02585E0> random 10 1 5\n"
     ]
    },
    {
     "name": "stdout",
     "output_type": "stream",
     "text": [
      "Minimum time(s) on random data of size 10: 1.4366640000000075e-05\n",
      "<function combined_sort at 0x000001FEC02585E0> random 10 2 5\n",
      "Minimum time(s) on random data of size 100: 0.000591537800000026\n",
      "<function combined_sort at 0x000001FEC02585E0> random 10 3 5\n",
      "Minimum time(s) on random data of size 1000: 0.007097790000000259\n",
      "<function combined_sort at 0x000001FEC02585E0> random 10 4 5\n",
      "Minimum time(s) on random data of size 10000: 0.08591660000000445\n",
      "<function combined_sort at 0x000001FEC02585E0> random 10 5 5\n",
      "Minimum time(s) on random data of size 100000: 1.2612973999999895\n",
      "\n",
      "Saved to path: ../data/combined_sort_n10^5.pkl\n",
      "<function merge_sort at 0x000001FEC0242DC0> sorted 10 0 5\n",
      "Minimum time(s) on sorted data of size 1: 5.793826000000308e-07\n",
      "<function merge_sort at 0x000001FEC0242DC0> sorted 10 1 5\n",
      "Minimum time(s) on sorted data of size 10: 4.337108999999941e-05\n",
      "<function merge_sort at 0x000001FEC0242DC0> sorted 10 2 5\n",
      "Minimum time(s) on sorted data of size 100: 0.00047096720000001826\n",
      "<function merge_sort at 0x000001FEC0242DC0> sorted 10 3 5\n",
      "Minimum time(s) on sorted data of size 1000: 0.006412164000000189\n",
      "<function merge_sort at 0x000001FEC0242DC0> sorted 10 4 5\n",
      "Minimum time(s) on sorted data of size 10000: 0.0736050999999975\n",
      "<function merge_sort at 0x000001FEC0242DC0> sorted 10 5 5\n",
      "Minimum time(s) on sorted data of size 100000: 0.9231772999999919\n",
      "\n",
      "Saved to path: ../data/merge_sort_n10^5.pkl\n",
      "<function merge_sort at 0x000001FEC0242DC0> reversed 10 0 5\n",
      "Minimum time(s) on reversed data of size 1: 5.603942000000188e-07\n",
      "<function merge_sort at 0x000001FEC0242DC0> reversed 10 1 5\n",
      "Minimum time(s) on reversed data of size 10: 3.6312299999997325e-05\n",
      "<function merge_sort at 0x000001FEC0242DC0> reversed 10 2 5\n",
      "Minimum time(s) on reversed data of size 100: 0.0005559684000000403\n",
      "<function merge_sort at 0x000001FEC0242DC0> reversed 10 3 5\n",
      "Minimum time(s) on reversed data of size 1000: 0.006502047999999832\n",
      "<function merge_sort at 0x000001FEC0242DC0> reversed 10 4 5\n",
      "Minimum time(s) on reversed data of size 10000: 0.08437587999999323\n",
      "<function merge_sort at 0x000001FEC0242DC0> reversed 10 5 5\n",
      "Minimum time(s) on reversed data of size 100000: 0.974456699999962\n",
      "\n",
      "Saved to path: ../data/merge_sort_n10^5.pkl\n",
      "<function merge_sort at 0x000001FEC0242DC0> random 10 0 5\n",
      "Minimum time(s) on random data of size 1: 1.009316499999784e-06\n",
      "<function merge_sort at 0x000001FEC0242DC0> random 10 1 5\n",
      "Minimum time(s) on random data of size 10: 4.620102000000088e-05\n",
      "<function merge_sort at 0x000001FEC0242DC0> random 10 2 5\n",
      "Minimum time(s) on random data of size 100: 0.0006637372000000141\n",
      "<function merge_sort at 0x000001FEC0242DC0> random 10 3 5\n",
      "Minimum time(s) on random data of size 1000: 0.007463229999999612\n",
      "<function merge_sort at 0x000001FEC0242DC0> random 10 4 5\n",
      "Minimum time(s) on random data of size 10000: 0.0909671000000003\n",
      "<function merge_sort at 0x000001FEC0242DC0> random 10 5 5\n",
      "Minimum time(s) on random data of size 100000: 1.1580323000000021\n",
      "\n",
      "Saved to path: ../data/merge_sort_n10^5.pkl\n",
      "<function insertion_sort at 0x000001FEB1E15A60> sorted 10 0 5\n",
      "Minimum time(s) on sorted data of size 1: 7.023258000000396e-07\n",
      "<function insertion_sort at 0x000001FEB1E15A60> sorted 10 1 5\n",
      "Minimum time(s) on sorted data of size 10: 3.296624000000179e-06\n",
      "<function insertion_sort at 0x000001FEB1E15A60> sorted 10 2 5\n",
      "Minimum time(s) on sorted data of size 100: 2.3803559999998923e-05\n",
      "<function insertion_sort at 0x000001FEB1E15A60> sorted 10 3 5\n",
      "Minimum time(s) on sorted data of size 1000: 0.0002818877999999927\n",
      "<function insertion_sort at 0x000001FEB1E15A60> sorted 10 4 5\n",
      "Minimum time(s) on sorted data of size 10000: 0.0030941849999999247\n",
      "<function insertion_sort at 0x000001FEB1E15A60> sorted 10 5 5\n",
      "Minimum time(s) on sorted data of size 100000: 0.02758104999999773\n",
      "\n",
      "Saved to path: ../data/insertion_sort_n10^5.pkl\n",
      "<function insertion_sort at 0x000001FEB1E15A60> reversed 10 0 5\n",
      "Minimum time(s) on reversed data of size 1: 6.983926000000338e-07\n",
      "<function insertion_sort at 0x000001FEB1E15A60> reversed 10 1 5\n",
      "Minimum time(s) on reversed data of size 10: 1.176963999999998e-05\n",
      "<function insertion_sort at 0x000001FEB1E15A60> reversed 10 2 5\n",
      "Minimum time(s) on reversed data of size 100: 0.0012433525000000146\n",
      "<function insertion_sort at 0x000001FEB1E15A60> reversed 10 3 5\n",
      "Minimum time(s) on reversed data of size 1000: 0.13088160000000926\n",
      "<function insertion_sort at 0x000001FEB1E15A60> reversed 10 4 5\n",
      "Minimum time(s) on reversed data of size 10000: 13.051161700000023\n",
      "<function insertion_sort at 0x000001FEB1E15A60> reversed 10 5 5\n",
      "Minimum time(s) on reversed data of size 100000: 1196.7039567000002\n",
      "\n",
      "Saved to path: ../data/insertion_sort_n10^5.pkl\n",
      "<function insertion_sort at 0x000001FEB1E15A60> random 10 0 5\n",
      "Minimum time(s) on random data of size 1: 9.378834999915853e-07\n",
      "<function insertion_sort at 0x000001FEB1E15A60> random 10 1 5\n",
      "Minimum time(s) on random data of size 10: 1.16752149999229e-05\n",
      "<function insertion_sort at 0x000001FEB1E15A60> random 10 2 5\n",
      "Minimum time(s) on random data of size 100: 0.002513875000004191\n",
      "<function insertion_sort at 0x000001FEB1E15A60> random 10 3 5\n",
      "Minimum time(s) on random data of size 1000: 0.33857889999853796\n",
      "<function insertion_sort at 0x000001FEB1E15A60> random 10 4 5\n",
      "Minimum time(s) on random data of size 10000: 11.452888299998449\n",
      "<function insertion_sort at 0x000001FEB1E15A60> random 10 5 5\n",
      "Minimum time(s) on random data of size 100000: 1511.8673922999988\n",
      "\n",
      "Saved to path: ../data/insertion_sort_n10^5.pkl\n",
      "<function bubble_sort at 0x000001FEC0242550> sorted 10 0 5\n",
      "Minimum time(s) on sorted data of size 1: 8.166934000037145e-07\n",
      "<function bubble_sort at 0x000001FEC0242550> sorted 10 1 5\n",
      "Minimum time(s) on sorted data of size 10: 9.999574999892503e-06\n",
      "<function bubble_sort at 0x000001FEC0242550> sorted 10 2 5\n",
      "Minimum time(s) on sorted data of size 100: 0.0007625803999981144\n",
      "<function bubble_sort at 0x000001FEC0242550> sorted 10 3 5\n",
      "Minimum time(s) on sorted data of size 1000: 0.08861777999991319\n",
      "<function bubble_sort at 0x000001FEC0242550> sorted 10 4 5\n",
      "Minimum time(s) on sorted data of size 10000: 10.425006799996481\n",
      "<function bubble_sort at 0x000001FEC0242550> sorted 10 5 5\n"
     ]
    }
   ],
   "source": [
    "for title, sort in sorting_functions.items():\n",
    "    run_benchmark(sort, input_base=10, input_power=4, seed=12)"
   ]
  }
 ],
 "metadata": {
  "hide_input": false,
  "kernelspec": {
   "display_name": "Python 3",
   "language": "python",
   "name": "python3"
  },
  "language_info": {
   "codemirror_mode": {
    "name": "ipython",
    "version": 3
   },
   "file_extension": ".py",
   "mimetype": "text/x-python",
   "name": "python",
   "nbconvert_exporter": "python",
   "pygments_lexer": "ipython3",
   "version": "3.8.5"
  },
  "toc": {
   "base_numbering": 1,
   "nav_menu": {},
   "number_sections": true,
   "sideBar": true,
   "skip_h1_title": false,
   "title_cell": "Table of Contents",
   "title_sidebar": "Contents",
   "toc_cell": false,
   "toc_position": {},
   "toc_section_display": true,
   "toc_window_display": false
  },
  "varInspector": {
   "cols": {
    "lenName": 16,
    "lenType": 16,
    "lenVar": 40
   },
   "kernels_config": {
    "python": {
     "delete_cmd_postfix": "",
     "delete_cmd_prefix": "del ",
     "library": "var_list.py",
     "varRefreshCmd": "print(var_dic_list())"
    },
    "r": {
     "delete_cmd_postfix": ") ",
     "delete_cmd_prefix": "rm(",
     "library": "var_list.r",
     "varRefreshCmd": "cat(var_dic_list()) "
    }
   },
   "types_to_exclude": [
    "module",
    "function",
    "builtin_function_or_method",
    "instance",
    "_Feature"
   ],
   "window_display": false
  }
 },
 "nbformat": 4,
 "nbformat_minor": 4
}
