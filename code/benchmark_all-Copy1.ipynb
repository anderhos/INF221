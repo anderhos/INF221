{
 "cells": [
  {
   "cell_type": "markdown",
   "metadata": {},
   "source": [
    "# Alogrithms"
   ]
  },
  {
   "cell_type": "markdown",
   "metadata": {},
   "source": [
    "## Quadratic Algorithms"
   ]
  },
  {
   "cell_type": "markdown",
   "metadata": {},
   "source": [
    "### InsertionSort"
   ]
  },
  {
   "cell_type": "code",
   "execution_count": 17,
   "metadata": {},
   "outputs": [],
   "source": [
    "# Code from L02\n",
    "\n",
    "def insertion_sort(A):\n",
    "    for j in range(1, len(A)):\n",
    "        key = A[j]\n",
    "        i = j - 1\n",
    "        while i >= 0 and A[i] > key:\n",
    "            A[i + 1] = A[i]\n",
    "            i = i - 1\n",
    "        A[i + 1] = key\n",
    "    return A"
   ]
  },
  {
   "cell_type": "markdown",
   "metadata": {},
   "source": [
    "### BubbleSort"
   ]
  },
  {
   "cell_type": "code",
   "execution_count": 18,
   "metadata": {},
   "outputs": [],
   "source": [
    "def bubble_sort(array):\n",
    "    for j in range(0, len(array)-2):\n",
    "        for k in range(len(array)-1, j, -1):\n",
    "            if array[k] < array[k-1]:\n",
    "                array[k], array[k-1] = array[k-1], array[k]\n",
    "    return array"
   ]
  },
  {
   "cell_type": "markdown",
   "metadata": {},
   "source": [
    "## Sub-quadratic Algorithms"
   ]
  },
  {
   "cell_type": "markdown",
   "metadata": {},
   "source": [
    "### MergeSort"
   ]
  },
  {
   "cell_type": "code",
   "execution_count": 19,
   "metadata": {},
   "outputs": [],
   "source": [
    "# Code from L03\n",
    "\n",
    "def merge(A, p, q, r):    \n",
    "    n1 = q - p + 1\n",
    "    n2 = r - q\n",
    "    \n",
    "    L = [0] * n1\n",
    "    R = [0] * n2\n",
    "\n",
    "    for i in list(range(n1)):\n",
    "        L[i] = A[p + i - 1]\n",
    "    \n",
    "    for j in list(range(n2)):\n",
    "        R[j] = A[q + j]\n",
    "    L.append(float('inf'))\n",
    "    R.append(float('inf'))\n",
    "\n",
    "    i = 1 - 1     # Subtract 1 to adjust to Python indexing\n",
    "    j = 1 - 1     # Subtract 1 to adjust to Python indexing\n",
    "    \n",
    "    for k in list(range(p - 1, r)):     # Subtract 1 from q to adjust to Python range object\n",
    "        if L[i] <= R[j]:\n",
    "            A[k] = L[i]\n",
    "            i = i + 1\n",
    "        else:\n",
    "            A[k] = R[j]\n",
    "            j = j + 1\n",
    "    return A"
   ]
  },
  {
   "cell_type": "code",
   "execution_count": 20,
   "metadata": {},
   "outputs": [],
   "source": [
    "# See page 34 book for algorithm\n",
    "def _merge_sort(A, p, r):\n",
    "    if p < r:\n",
    "        q = (p + r) // 2\n",
    "        _merge_sort(A, p, q)\n",
    "        _merge_sort(A, q + 1, r)\n",
    "        merge(A, p, q, r)\n",
    "    return A"
   ]
  },
  {
   "cell_type": "code",
   "execution_count": 21,
   "metadata": {},
   "outputs": [],
   "source": [
    "def merge_sort(A):\n",
    "    \"\"\"\n",
    "    Algorithm must take only one input parameter to \n",
    "    work in benchmarking with the Timer below\n",
    "    \n",
    "    Parameters\n",
    "    ----------\n",
    "    A : array\n",
    "        Numbers to be sorted\n",
    "    \"\"\"\n",
    "    p = 1\n",
    "    r = len(A)\n",
    "    _merge_sort(A, p, r)\n",
    "    return A\n",
    "        "
   ]
  },
  {
   "cell_type": "markdown",
   "metadata": {},
   "source": [
    "### QuickSort"
   ]
  },
  {
   "cell_type": "code",
   "execution_count": 22,
   "metadata": {},
   "outputs": [],
   "source": [
    "# Code from L07\n",
    "\n",
    "def partition(array, low, high):\n",
    "    \"\"\"DEFINE PARTITION FOR QUICKSORT\"\"\"\n",
    "    pivot = array[high]\n",
    "    i = (low - 1)\n",
    "    for j in range(low, high):\n",
    "        if array[j] <= pivot:\n",
    "            i = i + 1\n",
    "            array[i], array[j] = array[j], array[i]\n",
    "    array[i + 1], array[high] = array[high], array[i + 1]\n",
    "    return i + 1\n",
    "\n",
    "\n",
    "def quick_sort(array, low=0, high=None):\n",
    "    \"\"\"Sorts a list using the quicksort algorithm.\"\"\"\n",
    "    if high is None:\n",
    "        high = len(array) - 1\n",
    "    if low < high:\n",
    "        part = partition(array, low, high)\n",
    "        quick_sort(array, low, part - 1)\n",
    "        quick_sort(array, part + 1, high)\n",
    "    return array"
   ]
  },
  {
   "cell_type": "markdown",
   "metadata": {},
   "source": [
    "## Combined Algoriothms"
   ]
  },
  {
   "cell_type": "markdown",
   "metadata": {},
   "source": [
    "### MergeSort switching to InsertionSort for small data"
   ]
  },
  {
   "cell_type": "code",
   "execution_count": 23,
   "metadata": {},
   "outputs": [],
   "source": [
    "def combined_sort(A, p=1, n=100):\n",
    "    \"\"\"\n",
    "    Combined algorithm mergesort switching to insertion sort for small data\n",
    "    \n",
    "    Parameters\n",
    "    ----------\n",
    "    \n",
    "    A : array \n",
    "        Numbers to be sorted\n",
    "       \n",
    "    p : int\n",
    "        Start index. Default=1 for sorting the entire array.\n",
    "    \n",
    "    n : int\n",
    "        Threshold value when the function shifts sorting algorithm\n",
    "       \n",
    "    \"\"\"\n",
    "    if len(A) < n:\n",
    "        insertion_sort(A)\n",
    "    else:\n",
    "        _merge_sort(A, p, len(A))\n",
    "    return A"
   ]
  },
  {
   "cell_type": "markdown",
   "metadata": {},
   "source": [
    "## Built-in sorting functions"
   ]
  },
  {
   "cell_type": "markdown",
   "metadata": {},
   "source": [
    "## Python 'sort()'"
   ]
  },
  {
   "cell_type": "code",
   "execution_count": 24,
   "metadata": {},
   "outputs": [
    {
     "data": {
      "text/plain": [
       "<function sorted(iterable, /, *, key=None, reverse=False)>"
      ]
     },
     "execution_count": 24,
     "metadata": {},
     "output_type": "execute_result"
    }
   ],
   "source": [
    "sorted"
   ]
  },
  {
   "cell_type": "markdown",
   "metadata": {},
   "source": [
    "## NumPy 'sort()'"
   ]
  },
  {
   "cell_type": "code",
   "execution_count": 25,
   "metadata": {},
   "outputs": [
    {
     "data": {
      "text/plain": [
       "<function numpy.sort(a, axis=-1, kind=None, order=None)>"
      ]
     },
     "execution_count": 25,
     "metadata": {},
     "output_type": "execute_result"
    }
   ],
   "source": [
    "import numpy as np\n",
    "np.sort"
   ]
  },
  {
   "cell_type": "code",
   "execution_count": 26,
   "metadata": {},
   "outputs": [],
   "source": [
    "array=[0, -5, 4,8,2,-55, 1,0,-856,94, 9,78,5,-84,568]\n"
   ]
  },
  {
   "cell_type": "markdown",
   "metadata": {},
   "source": [
    "# Benchmarking"
   ]
  },
  {
   "cell_type": "code",
   "execution_count": 27,
   "metadata": {},
   "outputs": [],
   "source": [
    "import numpy as np\n",
    "import pandas as pd\n",
    "import timeit\n",
    "import copy\n",
    "import os.path"
   ]
  },
  {
   "cell_type": "code",
   "execution_count": 28,
   "metadata": {},
   "outputs": [],
   "source": [
    "def run_benchmark(sort_func,\n",
    "                  input_base,\n",
    "                  input_power,\n",
    "                  seed=None,\n",
    "                  save=True,\n",
    "                  num_runs=5):\n",
    "    \"\"\"\n",
    "    Run benchmark with given parameters\n",
    "\n",
    "    Parameters\n",
    "    ----------------------------------------------------------------------\n",
    "    sort_func: function\n",
    "               Algorithm to used for sorting.\n",
    "    input_power: int\n",
    "                 The power of the data size\n",
    "    seed: int, optional\n",
    "    save: bool, optional\n",
    "          Saving results to file. Default is True.\n",
    "    input_base: int, optional\n",
    "                Raise this number to input_power to determine data size\n",
    "    num_runs: int, optional\n",
    "              Number of runs at each test case\n",
    "    ----------------------------------------------------------------------\n",
    "    \"\"\"\n",
    "\n",
    "    input_size = input_base**input_power\n",
    "    # Create data frame for storing results\n",
    "    results = pd.DataFrame(columns=[\n",
    "        'input order', 'input size', 'run number', 'sorting algorithm', 'time'\n",
    "    ])\n",
    "    for order in ['sorted', 'reversed', 'random']:\n",
    "        for p in range(input_power + 1):\n",
    "\n",
    "            quicksort_recurrsion_limit = sort_func == quick_sort and (\n",
    "                order == 'sorted'\n",
    "                or order == 'reversed') and ((input_base == 10 and p > 3) or\n",
    "                                             (input_base == 2 and p > 11))\n",
    "            print(sort_func, order, input_base, p, num_runs)\n",
    "\n",
    "            if not quicksort_recurrsion_limit:\n",
    "\n",
    "                # Generate random data\n",
    "                rng = np.random.default_rng(seed)\n",
    "                test_data = rng.uniform(size=input_base**p)\n",
    "\n",
    "                # Presorting\n",
    "                if order == 'sorted':\n",
    "                    test_data = sorted(test_data)\n",
    "\n",
    "                elif order == 'reversed':\n",
    "                    test_data = list(reversed(sorted(test_data)))\n",
    "\n",
    "                # Timer function\n",
    "                clock = timeit.Timer(stmt='sort_func(copy(data))',\n",
    "                                     globals={\n",
    "                                         'sort_func': sort_func,\n",
    "                                         'data': test_data,\n",
    "                                         'copy': copy.copy\n",
    "                                     })\n",
    "                n_ar, t_ar = clock.autorange()\n",
    "                t = clock.repeat(repeat=7, number=n_ar)\n",
    "\n",
    "                # Print out average time over the number of runs for each data size\n",
    "                print(\n",
    "                    f\"Minimum time(s) on {order} data of size \"\n",
    "                    f\"{input_base**p}:\",\n",
    "                    np.min(t) / n_ar)\n",
    "\n",
    "                for run_number in range(num_runs):\n",
    "                    results = \\\n",
    "                        results.append(\n",
    "                            {'input order': order,\n",
    "                             'input size': input_base**p,\n",
    "                             'run number': run_number + 1,\n",
    "                             'sorting algorithm': f'{sort_func.__name__}',\n",
    "                             'time': t[run_number] / n_ar},\n",
    "                            ignore_index=True)\n",
    "        if save:\n",
    "            # Save pickled data frame to file in data directory\n",
    "            directory = '../data/'\n",
    "            filename = '{0}_n{1}^{2}.pkl'.format(sort_func.__name__, input_base, input_power)\n",
    "            file_path = os.path.join(directory, filename)\n",
    "            if not os.path.isdir(directory):\n",
    "                os.mkdir(directory)\n",
    "            results.to_pickle(file_path)\n",
    "            print()\n",
    "            print(f'Saved to path: {file_path}')"
   ]
  },
  {
   "cell_type": "code",
   "execution_count": 29,
   "metadata": {},
   "outputs": [],
   "source": [
    "# from benchmarking import run_benchmark\n",
    "import numpy as np\n",
    "import os"
   ]
  },
  {
   "cell_type": "code",
   "execution_count": 30,
   "metadata": {
    "run_control": {
     "marked": false
    }
   },
   "outputs": [],
   "source": [
    "sorting_functions = {\n",
    "#     'Quick Sort': quick_sort,\n",
    "#     'Insertion Sort': insertion_sort,\n",
    "    'Bubble Sort': bubble_sort,\n",
    "#     'Merge Sort': merge_sort,\n",
    "#     'Combined Sort': combined_sort,\n",
    "#     'Python Sorted': sorted,\n",
    "#     'NumPy Sort': np.sort,\n",
    "}"
   ]
  },
  {
   "cell_type": "code",
   "execution_count": null,
   "metadata": {},
   "outputs": [
    {
     "name": "stdout",
     "output_type": "stream",
     "text": [
      "<function bubble_sort at 0x000002BE64950318> sorted 10 0 5\n",
      "Minimum time(s) on sorted data of size 1: 7.990535999999793e-07\n",
      "<function bubble_sort at 0x000002BE64950318> sorted 10 1 5\n",
      "Minimum time(s) on sorted data of size 10: 9.084247999999775e-06\n",
      "<function bubble_sort at 0x000002BE64950318> sorted 10 2 5\n",
      "Minimum time(s) on sorted data of size 100: 0.0005833106000000043\n",
      "<function bubble_sort at 0x000002BE64950318> sorted 10 3 5\n",
      "Minimum time(s) on sorted data of size 1000: 0.0633226800000017\n",
      "<function bubble_sort at 0x000002BE64950318> sorted 10 4 5\n",
      "Minimum time(s) on sorted data of size 10000: 9.26716549999999\n",
      "<function bubble_sort at 0x000002BE64950318> sorted 10 5 5\n"
     ]
    }
   ],
   "source": [
    "for title, sort in sorting_functions.items():\n",
    "    run_benchmark(sort, input_base=10, input_power=8, seed=12)"
   ]
  },
  {
   "cell_type": "code",
   "execution_count": null,
   "metadata": {},
   "outputs": [],
   "source": []
  }
 ],
 "metadata": {
  "hide_input": false,
  "kernelspec": {
   "display_name": "Python 3",
   "language": "python",
   "name": "python3"
  },
  "language_info": {
   "codemirror_mode": {
    "name": "ipython",
    "version": 3
   },
   "file_extension": ".py",
   "mimetype": "text/x-python",
   "name": "python",
   "nbconvert_exporter": "python",
   "pygments_lexer": "ipython3",
   "version": "3.7.9"
  },
  "toc": {
   "base_numbering": 1,
   "nav_menu": {},
   "number_sections": true,
   "sideBar": true,
   "skip_h1_title": false,
   "title_cell": "Table of Contents",
   "title_sidebar": "Contents",
   "toc_cell": false,
   "toc_position": {},
   "toc_section_display": true,
   "toc_window_display": false
  },
  "varInspector": {
   "cols": {
    "lenName": 16,
    "lenType": 16,
    "lenVar": 40
   },
   "kernels_config": {
    "python": {
     "delete_cmd_postfix": "",
     "delete_cmd_prefix": "del ",
     "library": "var_list.py",
     "varRefreshCmd": "print(var_dic_list())"
    },
    "r": {
     "delete_cmd_postfix": ") ",
     "delete_cmd_prefix": "rm(",
     "library": "var_list.r",
     "varRefreshCmd": "cat(var_dic_list()) "
    }
   },
   "types_to_exclude": [
    "module",
    "function",
    "builtin_function_or_method",
    "instance",
    "_Feature"
   ],
   "window_display": false
  }
 },
 "nbformat": 4,
 "nbformat_minor": 4
}
