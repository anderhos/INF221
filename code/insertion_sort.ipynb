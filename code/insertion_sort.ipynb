{
 "cells": [
  {
   "cell_type": "markdown",
   "metadata": {},
   "source": [
    "### Insertion sort"
   ]
  },
  {
   "cell_type": "code",
   "execution_count": 1,
   "metadata": {},
   "outputs": [],
   "source": [
    "import pandas as pd\n",
    "import numpy as np\n",
    "import timeit\n",
    "import copy"
   ]
  },
  {
   "cell_type": "code",
   "execution_count": 2,
   "metadata": {},
   "outputs": [],
   "source": [
    "from benchmarking import run_benchmark"
   ]
  },
  {
   "cell_type": "code",
   "execution_count": 3,
   "metadata": {},
   "outputs": [],
   "source": [
    "# Code from L02\n",
    "\n",
    "def insertion_sort(A):\n",
    "    for j in range(1, len(A)):\n",
    "        key = A[j]\n",
    "        i = j - 1\n",
    "        while i >= 0 and A[i] > key:\n",
    "            A[i + 1] = A[i]\n",
    "            i = i - 1\n",
    "        A[i + 1] = key\n",
    "    return A"
   ]
  },
  {
   "cell_type": "code",
   "execution_count": 4,
   "metadata": {},
   "outputs": [
    {
     "data": {
      "text/plain": [
       "function"
      ]
     },
     "execution_count": 4,
     "metadata": {},
     "output_type": "execute_result"
    }
   ],
   "source": [
    "type(insertion_sort)"
   ]
  },
  {
   "cell_type": "markdown",
   "metadata": {},
   "source": [
    "### Benchmarking"
   ]
  },
  {
   "cell_type": "code",
   "execution_count": 5,
   "metadata": {},
   "outputs": [
    {
     "name": "stdout",
     "output_type": "stream",
     "text": [
      "Average time(s) on sorted data of size 2^0: 1.0478496000000011e-06\n",
      "Average time(s) on reversed data of size 2^0: 1.017522699999999e-06\n",
      "Average time(s) on random data of size 2^0: 2.0878578000000053e-06\n"
     ]
    }
   ],
   "source": [
    "run_benchmark(insertion_sort, input_power=1, seed=12)"
   ]
  },
  {
   "cell_type": "code",
   "execution_count": null,
   "metadata": {},
   "outputs": [],
   "source": []
  },
  {
   "cell_type": "code",
   "execution_count": null,
   "metadata": {},
   "outputs": [],
   "source": []
  },
  {
   "cell_type": "markdown",
   "metadata": {},
   "source": [
    "### Notes to be deleted"
   ]
  },
  {
   "cell_type": "code",
   "execution_count": null,
   "metadata": {},
   "outputs": [],
   "source": [
    "benchmark_results_insertion = pd.DataFrame(columns = \n",
    "                                          ['input ordering', 'input size',\n",
    "                                           'run number','sorting algorithm',\n",
    "                                           'time'])"
   ]
  },
  {
   "cell_type": "code",
   "execution_count": null,
   "metadata": {},
   "outputs": [],
   "source": [
    "2**10"
   ]
  },
  {
   "cell_type": "code",
   "execution_count": null,
   "metadata": {},
   "outputs": [],
   "source": [
    "# Source TP 2019\n",
    "\n",
    "for input_ordering in ['sorted','reversed','random']:\n",
    "    \n",
    "    for input_size in range(1,4):\n",
    "        rng = np.random.default_rng(12)\n",
    "        test_data = np.random.uniform(size=10**input_size)\n",
    "        \n",
    "        if input_ordering == 'sorted':\n",
    "            test_data = sorted(test_data)\n",
    "        \n",
    "        elif input_ordering == 'reversed':\n",
    "            test_data = list(reversed(sorted(test_data)))\n",
    "        \n",
    "        elif input_ordering == 'identical':\n",
    "            test_data = [test_data]*0\n",
    "            \n",
    "        clock = timeit.Timer(stmt='sort_func(copy(data))',\n",
    "                     globals={'sort_func': insertion_sort,\n",
    "                              'data': test_data,\n",
    "                              'copy': copy.copy})\n",
    "        n_ar, t_ar = clock.autorange()\n",
    "        t = clock.repeat(repeat=5, number=n_ar)  \n",
    "        \n",
    "        print(f\"Insertion sort minimum time on {input_ordering} \\\n",
    "              data of size 10^{input_size}:\", min(t)/n_ar)\n",
    "        \n",
    "        \n",
    "        for run_number in range(5):\n",
    "            benchmark_results_insertion = \\\n",
    "                                benchmark_results_insertion.append(\n",
    "                                {'input ordering': input_ordering,                        \n",
    "                                 'input size':10**input_size,\n",
    "                                  'run number':run_number+1,\n",
    "                                  'sorting algorithm':'insertion_sort',\n",
    "                                  'time':t[run_number]/n_ar},\n",
    "                                     ignore_index=True)"
   ]
  },
  {
   "cell_type": "code",
   "execution_count": null,
   "metadata": {},
   "outputs": [],
   "source": [
    "benchmark_results_insertion"
   ]
  },
  {
   "cell_type": "code",
   "execution_count": null,
   "metadata": {},
   "outputs": [],
   "source": [
    "benchmark_results_insertion.to_pickle(\"./benchmark_results_insertion.pkl\")"
   ]
  },
  {
   "cell_type": "code",
   "execution_count": null,
   "metadata": {},
   "outputs": [],
   "source": [
    "pd.read_pickle(\"./benchmark_results_insertion.pkl\")"
   ]
  },
  {
   "cell_type": "code",
   "execution_count": null,
   "metadata": {},
   "outputs": [],
   "source": []
  }
 ],
 "metadata": {
  "kernelspec": {
   "display_name": "Python 3",
   "language": "python",
   "name": "python3"
  },
  "language_info": {
   "codemirror_mode": {
    "name": "ipython",
    "version": 3
   },
   "file_extension": ".py",
   "mimetype": "text/x-python",
   "name": "python",
   "nbconvert_exporter": "python",
   "pygments_lexer": "ipython3",
   "version": "3.8.3"
  }
 },
 "nbformat": 4,
 "nbformat_minor": 4
}
