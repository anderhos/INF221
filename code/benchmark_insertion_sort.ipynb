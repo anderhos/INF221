{
 "cells": [
  {
   "cell_type": "markdown",
   "metadata": {},
   "source": [
    "### Insertion sort"
   ]
  },
  {
   "cell_type": "code",
   "execution_count": 7,
   "metadata": {},
   "outputs": [],
   "source": [
    "from benchmarking import run_benchmark\n",
    "import pandas as pd"
   ]
  },
  {
   "cell_type": "code",
   "execution_count": 2,
   "metadata": {},
   "outputs": [],
   "source": [
    "# Code from L02\n",
    "\n",
    "def insertion_sort(A):\n",
    "    for j in range(1, len(A)):\n",
    "        key = A[j]\n",
    "        i = j - 1\n",
    "        while i >= 0 and A[i] > key:\n",
    "            A[i + 1] = A[i]\n",
    "            i = i - 1\n",
    "        A[i + 1] = key\n",
    "    return A"
   ]
  },
  {
   "cell_type": "markdown",
   "metadata": {},
   "source": [
    "### Benchmarking"
   ]
  },
  {
   "cell_type": "code",
   "execution_count": 4,
   "metadata": {},
   "outputs": [
    {
     "name": "stdout",
     "output_type": "stream",
     "text": [
      "Average time(s) on sorted data of size 2^0: 7.326096799999995e-07\n",
      "Average time(s) on sorted data of size 2^1: 1.071763500000003e-06\n",
      "Average time(s) on sorted data of size 2^2: 1.5679033000000012e-06\n",
      "Average time(s) on sorted data of size 2^3: 2.666555200000005e-06\n",
      "Average time(s) on reversed data of size 2^0: 7.048278400000001e-07\n",
      "Average time(s) on reversed data of size 2^1: 1.3187218999999964e-06\n",
      "Average time(s) on reversed data of size 2^2: 3.114026000000024e-06\n",
      "Average time(s) on reversed data of size 2^3: 9.952318000000026e-06\n",
      "Average time(s) on random data of size 2^0: 1.4632012000000004e-06\n",
      "Average time(s) on random data of size 2^1: 2.4202952000000126e-06\n",
      "Average time(s) on random data of size 2^2: 7.314415999999994e-06\n",
      "Average time(s) on random data of size 2^3: 1.921354099999988e-05\n",
      "Saved to path: ../data/insertion_sort_n8.pkl\n"
     ]
    }
   ],
   "source": [
    "run_benchmark(insertion_sort, input_base=2, input_power=3, seed=12)"
   ]
  }
 ],
 "metadata": {
  "kernelspec": {
   "display_name": "Python 3",
   "language": "python",
   "name": "python3"
  },
  "language_info": {
   "codemirror_mode": {
    "name": "ipython",
    "version": 3
   },
   "file_extension": ".py",
   "mimetype": "text/x-python",
   "name": "python",
   "nbconvert_exporter": "python",
   "pygments_lexer": "ipython3",
   "version": "3.8.3"
  }
 },
 "nbformat": 4,
 "nbformat_minor": 4
}
