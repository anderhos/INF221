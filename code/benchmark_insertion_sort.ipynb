{
 "cells": [
  {
   "cell_type": "markdown",
   "metadata": {},
   "source": [
    "### Insertion sort"
   ]
  },
  {
   "cell_type": "code",
   "execution_count": 2,
   "metadata": {},
   "outputs": [],
   "source": [
    "from benchmarking import run_benchmark\n",
    "import pandas as pd"
   ]
  },
  {
   "cell_type": "code",
   "execution_count": 3,
   "metadata": {},
   "outputs": [],
   "source": [
    "# Code from L02\n",
    "\n",
    "def insertion_sort(A):\n",
    "    for j in range(1, len(A)):\n",
    "        key = A[j]\n",
    "        i = j - 1\n",
    "        while i >= 0 and A[i] > key:\n",
    "            A[i + 1] = A[i]\n",
    "            i = i - 1\n",
    "        A[i + 1] = key\n",
    "    return A"
   ]
  },
  {
   "cell_type": "markdown",
   "metadata": {},
   "source": [
    "### Benchmarking"
   ]
  },
  {
   "cell_type": "code",
   "execution_count": 4,
   "metadata": {},
   "outputs": [
    {
     "name": "stdout",
     "output_type": "stream",
     "text": [
      "Average time(s) on sorted data of size 1: 6.796715200000009e-07\n",
      "Average time(s) on sorted data of size 2: 1.0482371999999992e-06\n",
      "Average time(s) on sorted data of size 4: 1.5758121000000003e-06\n",
      "Average time(s) on sorted data of size 8: 2.6244335999999963e-06\n",
      "Average time(s) on reversed data of size 1: 6.656914800000025e-07\n",
      "Average time(s) on reversed data of size 2: 1.3010364999999985e-06\n",
      "Average time(s) on reversed data of size 4: 3.324114199999997e-06\n",
      "Average time(s) on reversed data of size 8: 9.656321999999981e-06\n",
      "Average time(s) on random data of size 1: 1.569465300000001e-06\n",
      "Average time(s) on random data of size 2: 2.443573799999996e-06\n",
      "Average time(s) on random data of size 4: 6.9856140000000555e-06\n",
      "Average time(s) on random data of size 8: 1.8465751999999967e-05\n",
      "\n",
      "Saved to path: ../data/insertion_sort_n8.pkl\n"
     ]
    }
   ],
   "source": [
    "run_benchmark(insertion_sort, input_base=2, input_power=3, seed=12)"
   ]
  },
  {
   "cell_type": "code",
   "execution_count": null,
   "metadata": {},
   "outputs": [],
   "source": []
  }
 ],
 "metadata": {
  "kernelspec": {
   "display_name": "Python 3",
   "language": "python",
   "name": "python3"
  },
  "language_info": {
   "codemirror_mode": {
    "name": "ipython",
    "version": 3
   },
   "file_extension": ".py",
   "mimetype": "text/x-python",
   "name": "python",
   "nbconvert_exporter": "python",
   "pygments_lexer": "ipython3",
   "version": "3.8.3"
  }
 },
 "nbformat": 4,
 "nbformat_minor": 4
}
