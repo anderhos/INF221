{
 "cells": [
  {
   "cell_type": "code",
   "execution_count": 49,
   "metadata": {},
   "outputs": [],
   "source": [
    "from benchmarking import run_benchmark"
   ]
  },
  {
   "cell_type": "markdown",
   "metadata": {},
   "source": [
    "# Code from P02\n",
    "\n",
    "### Bubble sort\n",
    "\n",
    "```\n",
    "BubbleSort(A)\n",
    "    for i = 1 to A.length - 1\n",
    "        for j = A.length downto i+1\n",
    "            if A[j] < A[j-1]\n",
    "                exchange A[j] with A[j-1]\n"
   ]
  },
  {
   "cell_type": "code",
   "execution_count": 47,
   "metadata": {},
   "outputs": [],
   "source": [
    "def bubble_sort(array):\n",
    "    for j in range(0, len(array)-2):\n",
    "        for k in range(len(array)-1, j, -1):\n",
    "            if array[k] < array[k-1]:\n",
    "                array[k], array[k-1] = array[k-1], array[k]\n",
    "    return array"
   ]
  },
  {
   "cell_type": "code",
   "execution_count": 48,
   "metadata": {},
   "outputs": [
    {
     "data": {
      "text/plain": [
       "[-856, -84, -55, -5, 0, 0, 1, 2, 4, 5, 8, 9, 78, 94, 568]"
      ]
     },
     "execution_count": 48,
     "metadata": {},
     "output_type": "execute_result"
    }
   ],
   "source": [
    "array=[0, -5, 4,8,2,-55, 1,0,-856,94, 9,78,5,-84,568]\n",
    "bubble_sort(array)"
   ]
  },
  {
   "cell_type": "code",
   "execution_count": 50,
   "metadata": {},
   "outputs": [
    {
     "ename": "NameError",
     "evalue": "name 'quick_sort' is not defined",
     "output_type": "error",
     "traceback": [
      "\u001b[1;31m---------------------------------------------------------------------------\u001b[0m",
      "\u001b[1;31mNameError\u001b[0m                                 Traceback (most recent call last)",
      "\u001b[1;32m<ipython-input-50-dc11a634d5d2>\u001b[0m in \u001b[0;36m<module>\u001b[1;34m\u001b[0m\n\u001b[1;32m----> 1\u001b[1;33m \u001b[0mrun_benchmark\u001b[0m\u001b[1;33m(\u001b[0m\u001b[0mquick_sort\u001b[0m\u001b[1;33m,\u001b[0m \u001b[0minput_base\u001b[0m\u001b[1;33m=\u001b[0m\u001b[1;36m2\u001b[0m\u001b[1;33m,\u001b[0m \u001b[0minput_power\u001b[0m\u001b[1;33m=\u001b[0m\u001b[1;36m3\u001b[0m\u001b[1;33m,\u001b[0m \u001b[0mseed\u001b[0m\u001b[1;33m=\u001b[0m\u001b[1;36m12\u001b[0m\u001b[1;33m)\u001b[0m\u001b[1;33m\u001b[0m\u001b[1;33m\u001b[0m\u001b[0m\n\u001b[0m",
      "\u001b[1;31mNameError\u001b[0m: name 'quick_sort' is not defined"
     ]
    }
   ],
   "source": []
  },
  {
   "cell_type": "markdown",
   "metadata": {},
   "source": [
    "### Benchmarking"
   ]
  },
  {
   "cell_type": "code",
   "execution_count": 51,
   "metadata": {},
   "outputs": [
    {
     "name": "stdout",
     "output_type": "stream",
     "text": [
      "Minimum time(s) on sorted data of size 1: 6.879812000006496e-07\n",
      "Minimum time(s) on sorted data of size 2: 7.524901999986469e-07\n",
      "Minimum time(s) on sorted data of size 4: 2.0147269999961283e-06\n",
      "Minimum time(s) on sorted data of size 8: 5.951758000010159e-06\n",
      "Minimum time(s) on reversed data of size 1: 7.024223999997048e-07\n",
      "Minimum time(s) on reversed data of size 2: 7.119255999987217e-07\n",
      "Minimum time(s) on reversed data of size 4: 4.753644000011263e-06\n",
      "Minimum time(s) on reversed data of size 8: 1.681060000000798e-05\n",
      "Minimum time(s) on random data of size 1: 2.4775930000032533e-06\n",
      "Minimum time(s) on random data of size 2: 2.566821999998865e-06\n",
      "Minimum time(s) on random data of size 4: 1.2843010000051436e-05\n",
      "Minimum time(s) on random data of size 8: 4.7268700000131504e-05\n",
      "\n",
      "Saved to path: ../data/bubble_sort_n8.pkl\n"
     ]
    }
   ],
   "source": [
    "run_benchmark(bubble_sort, input_base=2, input_power=3, seed=12)"
   ]
  },
  {
   "cell_type": "code",
   "execution_count": null,
   "metadata": {},
   "outputs": [],
   "source": []
  }
 ],
 "metadata": {
  "hide_input": false,
  "kernelspec": {
   "display_name": "Python 3",
   "language": "python",
   "name": "python3"
  },
  "language_info": {
   "codemirror_mode": {
    "name": "ipython",
    "version": 3
   },
   "file_extension": ".py",
   "mimetype": "text/x-python",
   "name": "python",
   "nbconvert_exporter": "python",
   "pygments_lexer": "ipython3",
   "version": "3.7.9"
  },
  "toc": {
   "base_numbering": 1,
   "nav_menu": {},
   "number_sections": true,
   "sideBar": true,
   "skip_h1_title": false,
   "title_cell": "Table of Contents",
   "title_sidebar": "Contents",
   "toc_cell": false,
   "toc_position": {},
   "toc_section_display": true,
   "toc_window_display": false
  },
  "varInspector": {
   "cols": {
    "lenName": 16,
    "lenType": 16,
    "lenVar": 40
   },
   "kernels_config": {
    "python": {
     "delete_cmd_postfix": "",
     "delete_cmd_prefix": "del ",
     "library": "var_list.py",
     "varRefreshCmd": "print(var_dic_list())"
    },
    "r": {
     "delete_cmd_postfix": ") ",
     "delete_cmd_prefix": "rm(",
     "library": "var_list.r",
     "varRefreshCmd": "cat(var_dic_list()) "
    }
   },
   "types_to_exclude": [
    "module",
    "function",
    "builtin_function_or_method",
    "instance",
    "_Feature"
   ],
   "window_display": false
  }
 },
 "nbformat": 4,
 "nbformat_minor": 4
}
